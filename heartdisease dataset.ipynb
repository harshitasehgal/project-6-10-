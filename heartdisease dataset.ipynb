{
 "cells": [
  {
   "cell_type": "code",
   "execution_count": 158,
   "metadata": {},
   "outputs": [],
   "source": [
    "import pandas as pd\n",
    "import matplotlib.pyplot as plt\n",
    "import seaborn as sns\n",
    "import numpy as np\n",
    "import warnings\n",
    "warnings.filterwarnings('ignore')\n",
    "import pandas as pd\n",
    "from sklearn.linear_model import LinearRegression\n",
    "from sklearn.linear_model import LogisticRegression\n",
    "from sklearn.metrics import mean_squared_error,mean_absolute_error\n",
    "from sklearn.model_selection import train_test_split\n",
    "from sklearn.metrics import confusion_matrix,classification_report\n",
    "from sklearn.metrics import accuracy_score\n",
    "from sklearn.naive_bayes import MultinomialNB\n",
    "from sklearn.tree import DecisionTreeClassifier\n",
    "from sklearn.model_selection import cross_val_score\n",
    "from sklearn.model_selection import cross_val_predict\n",
    "import warnings\n",
    "warnings.filterwarnings('ignore')"
   ]
  },
  {
   "cell_type": "code",
   "execution_count": 2,
   "metadata": {},
   "outputs": [],
   "source": [
    "df=pd.read_csv(\"heartdisease.csv\")"
   ]
  },
  {
   "cell_type": "code",
   "execution_count": 3,
   "metadata": {},
   "outputs": [
    {
     "data": {
      "text/html": [
       "<div>\n",
       "<style scoped>\n",
       "    .dataframe tbody tr th:only-of-type {\n",
       "        vertical-align: middle;\n",
       "    }\n",
       "\n",
       "    .dataframe tbody tr th {\n",
       "        vertical-align: top;\n",
       "    }\n",
       "\n",
       "    .dataframe thead th {\n",
       "        text-align: right;\n",
       "    }\n",
       "</style>\n",
       "<table border=\"1\" class=\"dataframe\">\n",
       "  <thead>\n",
       "    <tr style=\"text-align: right;\">\n",
       "      <th></th>\n",
       "      <th>63</th>\n",
       "      <th>1</th>\n",
       "      <th>4</th>\n",
       "      <th>140</th>\n",
       "      <th>260</th>\n",
       "      <th>0</th>\n",
       "      <th>1.1</th>\n",
       "      <th>112</th>\n",
       "      <th>1.2</th>\n",
       "      <th>3</th>\n",
       "      <th>2</th>\n",
       "      <th>?</th>\n",
       "      <th>?.1</th>\n",
       "      <th>2.1</th>\n",
       "    </tr>\n",
       "  </thead>\n",
       "  <tbody>\n",
       "    <tr>\n",
       "      <td>0</td>\n",
       "      <td>44</td>\n",
       "      <td>1</td>\n",
       "      <td>4</td>\n",
       "      <td>130</td>\n",
       "      <td>209</td>\n",
       "      <td>0</td>\n",
       "      <td>1</td>\n",
       "      <td>127</td>\n",
       "      <td>0</td>\n",
       "      <td>0</td>\n",
       "      <td>?</td>\n",
       "      <td>?</td>\n",
       "      <td>?</td>\n",
       "      <td>0</td>\n",
       "    </tr>\n",
       "    <tr>\n",
       "      <td>1</td>\n",
       "      <td>60</td>\n",
       "      <td>1</td>\n",
       "      <td>4</td>\n",
       "      <td>132</td>\n",
       "      <td>218</td>\n",
       "      <td>0</td>\n",
       "      <td>1</td>\n",
       "      <td>140</td>\n",
       "      <td>1</td>\n",
       "      <td>1.5</td>\n",
       "      <td>3</td>\n",
       "      <td>?</td>\n",
       "      <td>?</td>\n",
       "      <td>2</td>\n",
       "    </tr>\n",
       "    <tr>\n",
       "      <td>2</td>\n",
       "      <td>55</td>\n",
       "      <td>1</td>\n",
       "      <td>4</td>\n",
       "      <td>142</td>\n",
       "      <td>228</td>\n",
       "      <td>0</td>\n",
       "      <td>1</td>\n",
       "      <td>149</td>\n",
       "      <td>1</td>\n",
       "      <td>2.5</td>\n",
       "      <td>1</td>\n",
       "      <td>?</td>\n",
       "      <td>?</td>\n",
       "      <td>1</td>\n",
       "    </tr>\n",
       "    <tr>\n",
       "      <td>3</td>\n",
       "      <td>66</td>\n",
       "      <td>1</td>\n",
       "      <td>3</td>\n",
       "      <td>110</td>\n",
       "      <td>213</td>\n",
       "      <td>1</td>\n",
       "      <td>2</td>\n",
       "      <td>99</td>\n",
       "      <td>1</td>\n",
       "      <td>1.3</td>\n",
       "      <td>2</td>\n",
       "      <td>?</td>\n",
       "      <td>?</td>\n",
       "      <td>0</td>\n",
       "    </tr>\n",
       "    <tr>\n",
       "      <td>4</td>\n",
       "      <td>66</td>\n",
       "      <td>1</td>\n",
       "      <td>3</td>\n",
       "      <td>120</td>\n",
       "      <td>0</td>\n",
       "      <td>0</td>\n",
       "      <td>1</td>\n",
       "      <td>120</td>\n",
       "      <td>0</td>\n",
       "      <td>-0.5</td>\n",
       "      <td>1</td>\n",
       "      <td>?</td>\n",
       "      <td>?</td>\n",
       "      <td>0</td>\n",
       "    </tr>\n",
       "    <tr>\n",
       "      <td>5</td>\n",
       "      <td>65</td>\n",
       "      <td>1</td>\n",
       "      <td>4</td>\n",
       "      <td>150</td>\n",
       "      <td>236</td>\n",
       "      <td>1</td>\n",
       "      <td>1</td>\n",
       "      <td>105</td>\n",
       "      <td>1</td>\n",
       "      <td>0</td>\n",
       "      <td>?</td>\n",
       "      <td>?</td>\n",
       "      <td>?</td>\n",
       "      <td>3</td>\n",
       "    </tr>\n",
       "    <tr>\n",
       "      <td>6</td>\n",
       "      <td>60</td>\n",
       "      <td>1</td>\n",
       "      <td>3</td>\n",
       "      <td>180</td>\n",
       "      <td>0</td>\n",
       "      <td>0</td>\n",
       "      <td>1</td>\n",
       "      <td>140</td>\n",
       "      <td>1</td>\n",
       "      <td>1.5</td>\n",
       "      <td>2</td>\n",
       "      <td>?</td>\n",
       "      <td>?</td>\n",
       "      <td>0</td>\n",
       "    </tr>\n",
       "    <tr>\n",
       "      <td>7</td>\n",
       "      <td>60</td>\n",
       "      <td>1</td>\n",
       "      <td>3</td>\n",
       "      <td>120</td>\n",
       "      <td>0</td>\n",
       "      <td>?</td>\n",
       "      <td>0</td>\n",
       "      <td>141</td>\n",
       "      <td>1</td>\n",
       "      <td>2</td>\n",
       "      <td>1</td>\n",
       "      <td>?</td>\n",
       "      <td>?</td>\n",
       "      <td>3</td>\n",
       "    </tr>\n",
       "    <tr>\n",
       "      <td>8</td>\n",
       "      <td>60</td>\n",
       "      <td>1</td>\n",
       "      <td>2</td>\n",
       "      <td>160</td>\n",
       "      <td>267</td>\n",
       "      <td>1</td>\n",
       "      <td>1</td>\n",
       "      <td>157</td>\n",
       "      <td>0</td>\n",
       "      <td>0.5</td>\n",
       "      <td>2</td>\n",
       "      <td>?</td>\n",
       "      <td>?</td>\n",
       "      <td>1</td>\n",
       "    </tr>\n",
       "    <tr>\n",
       "      <td>9</td>\n",
       "      <td>56</td>\n",
       "      <td>1</td>\n",
       "      <td>2</td>\n",
       "      <td>126</td>\n",
       "      <td>166</td>\n",
       "      <td>0</td>\n",
       "      <td>1</td>\n",
       "      <td>140</td>\n",
       "      <td>0</td>\n",
       "      <td>0</td>\n",
       "      <td>?</td>\n",
       "      <td>?</td>\n",
       "      <td>?</td>\n",
       "      <td>0</td>\n",
       "    </tr>\n",
       "  </tbody>\n",
       "</table>\n",
       "</div>"
      ],
      "text/plain": [
       "   63  1  4  140  260  0  1.1  112 1.2     3  2  ? ?.1  2.1\n",
       "0  44  1  4  130  209  0    1  127   0     0  ?  ?   ?    0\n",
       "1  60  1  4  132  218  0    1  140   1   1.5  3  ?   ?    2\n",
       "2  55  1  4  142  228  0    1  149   1   2.5  1  ?   ?    1\n",
       "3  66  1  3  110  213  1    2   99   1   1.3  2  ?   ?    0\n",
       "4  66  1  3  120    0  0    1  120   0  -0.5  1  ?   ?    0\n",
       "5  65  1  4  150  236  1    1  105   1     0  ?  ?   ?    3\n",
       "6  60  1  3  180    0  0    1  140   1   1.5  2  ?   ?    0\n",
       "7  60  1  3  120    0  ?    0  141   1     2  1  ?   ?    3\n",
       "8  60  1  2  160  267  1    1  157   0   0.5  2  ?   ?    1\n",
       "9  56  1  2  126  166  0    1  140   0     0  ?  ?   ?    0"
      ]
     },
     "execution_count": 3,
     "metadata": {},
     "output_type": "execute_result"
    }
   ],
   "source": [
    "df.head(10)"
   ]
  },
  {
   "cell_type": "code",
   "execution_count": 4,
   "metadata": {},
   "outputs": [],
   "source": [
    "df1=df"
   ]
  },
  {
   "cell_type": "code",
   "execution_count": 5,
   "metadata": {},
   "outputs": [],
   "source": [
    "missing_values = [ \"?\"]\n",
    "df1 = pd.read_csv(\"heartdisease.csv\", na_values = missing_values)"
   ]
  },
  {
   "cell_type": "code",
   "execution_count": 6,
   "metadata": {},
   "outputs": [
    {
     "data": {
      "text/plain": [
       "63       0\n",
       "1        0\n",
       "4        0\n",
       "140     56\n",
       "260      7\n",
       "0        7\n",
       "1.1      0\n",
       "112     53\n",
       "1.2     53\n",
       "3       56\n",
       "2      102\n",
       "?      197\n",
       "?.1    165\n",
       "2.1      0\n",
       "dtype: int64"
      ]
     },
     "execution_count": 6,
     "metadata": {},
     "output_type": "execute_result"
    }
   ],
   "source": [
    "df1.isnull().sum()"
   ]
  },
  {
   "cell_type": "code",
   "execution_count": null,
   "metadata": {},
   "outputs": [],
   "source": []
  },
  {
   "cell_type": "code",
   "execution_count": 7,
   "metadata": {},
   "outputs": [],
   "source": [
    "df1.columns=[\"age\",\n",
    " \"sex\",\n",
    " \"cp\",\n",
    " \"trestbps\",\n",
    " \"chol\",\n",
    " \"fbs\",\n",
    " \"restecg\",\n",
    " \"thalach\",\n",
    " \"exang\",\n",
    " \"oldpeak\",\n",
    " \"slope\",\n",
    " \"ca\",\n",
    " \"thal\",\n",
    " \"presence of heartdisease\"]"
   ]
  },
  {
   "cell_type": "code",
   "execution_count": 8,
   "metadata": {},
   "outputs": [
    {
     "data": {
      "text/html": [
       "<div>\n",
       "<style scoped>\n",
       "    .dataframe tbody tr th:only-of-type {\n",
       "        vertical-align: middle;\n",
       "    }\n",
       "\n",
       "    .dataframe tbody tr th {\n",
       "        vertical-align: top;\n",
       "    }\n",
       "\n",
       "    .dataframe thead th {\n",
       "        text-align: right;\n",
       "    }\n",
       "</style>\n",
       "<table border=\"1\" class=\"dataframe\">\n",
       "  <thead>\n",
       "    <tr style=\"text-align: right;\">\n",
       "      <th></th>\n",
       "      <th>age</th>\n",
       "      <th>sex</th>\n",
       "      <th>cp</th>\n",
       "      <th>trestbps</th>\n",
       "      <th>chol</th>\n",
       "      <th>fbs</th>\n",
       "      <th>restecg</th>\n",
       "      <th>thalach</th>\n",
       "      <th>exang</th>\n",
       "      <th>oldpeak</th>\n",
       "      <th>slope</th>\n",
       "      <th>ca</th>\n",
       "      <th>thal</th>\n",
       "      <th>presence of heartdisease</th>\n",
       "    </tr>\n",
       "  </thead>\n",
       "  <tbody>\n",
       "    <tr>\n",
       "      <td>0</td>\n",
       "      <td>44</td>\n",
       "      <td>1</td>\n",
       "      <td>4</td>\n",
       "      <td>130.0</td>\n",
       "      <td>209.0</td>\n",
       "      <td>0.0</td>\n",
       "      <td>1</td>\n",
       "      <td>127.0</td>\n",
       "      <td>0.0</td>\n",
       "      <td>0.0</td>\n",
       "      <td>NaN</td>\n",
       "      <td>NaN</td>\n",
       "      <td>NaN</td>\n",
       "      <td>0</td>\n",
       "    </tr>\n",
       "    <tr>\n",
       "      <td>1</td>\n",
       "      <td>60</td>\n",
       "      <td>1</td>\n",
       "      <td>4</td>\n",
       "      <td>132.0</td>\n",
       "      <td>218.0</td>\n",
       "      <td>0.0</td>\n",
       "      <td>1</td>\n",
       "      <td>140.0</td>\n",
       "      <td>1.0</td>\n",
       "      <td>1.5</td>\n",
       "      <td>3.0</td>\n",
       "      <td>NaN</td>\n",
       "      <td>NaN</td>\n",
       "      <td>2</td>\n",
       "    </tr>\n",
       "    <tr>\n",
       "      <td>2</td>\n",
       "      <td>55</td>\n",
       "      <td>1</td>\n",
       "      <td>4</td>\n",
       "      <td>142.0</td>\n",
       "      <td>228.0</td>\n",
       "      <td>0.0</td>\n",
       "      <td>1</td>\n",
       "      <td>149.0</td>\n",
       "      <td>1.0</td>\n",
       "      <td>2.5</td>\n",
       "      <td>1.0</td>\n",
       "      <td>NaN</td>\n",
       "      <td>NaN</td>\n",
       "      <td>1</td>\n",
       "    </tr>\n",
       "    <tr>\n",
       "      <td>3</td>\n",
       "      <td>66</td>\n",
       "      <td>1</td>\n",
       "      <td>3</td>\n",
       "      <td>110.0</td>\n",
       "      <td>213.0</td>\n",
       "      <td>1.0</td>\n",
       "      <td>2</td>\n",
       "      <td>99.0</td>\n",
       "      <td>1.0</td>\n",
       "      <td>1.3</td>\n",
       "      <td>2.0</td>\n",
       "      <td>NaN</td>\n",
       "      <td>NaN</td>\n",
       "      <td>0</td>\n",
       "    </tr>\n",
       "    <tr>\n",
       "      <td>4</td>\n",
       "      <td>66</td>\n",
       "      <td>1</td>\n",
       "      <td>3</td>\n",
       "      <td>120.0</td>\n",
       "      <td>0.0</td>\n",
       "      <td>0.0</td>\n",
       "      <td>1</td>\n",
       "      <td>120.0</td>\n",
       "      <td>0.0</td>\n",
       "      <td>-0.5</td>\n",
       "      <td>1.0</td>\n",
       "      <td>NaN</td>\n",
       "      <td>NaN</td>\n",
       "      <td>0</td>\n",
       "    </tr>\n",
       "  </tbody>\n",
       "</table>\n",
       "</div>"
      ],
      "text/plain": [
       "   age  sex  cp  trestbps   chol  fbs  restecg  thalach  exang  oldpeak  \\\n",
       "0   44    1   4     130.0  209.0  0.0        1    127.0    0.0      0.0   \n",
       "1   60    1   4     132.0  218.0  0.0        1    140.0    1.0      1.5   \n",
       "2   55    1   4     142.0  228.0  0.0        1    149.0    1.0      2.5   \n",
       "3   66    1   3     110.0  213.0  1.0        2     99.0    1.0      1.3   \n",
       "4   66    1   3     120.0    0.0  0.0        1    120.0    0.0     -0.5   \n",
       "\n",
       "   slope  ca  thal  presence of heartdisease  \n",
       "0    NaN NaN   NaN                         0  \n",
       "1    3.0 NaN   NaN                         2  \n",
       "2    1.0 NaN   NaN                         1  \n",
       "3    2.0 NaN   NaN                         0  \n",
       "4    1.0 NaN   NaN                         0  "
      ]
     },
     "execution_count": 8,
     "metadata": {},
     "output_type": "execute_result"
    }
   ],
   "source": [
    "df1.head(5)"
   ]
  },
  {
   "cell_type": "code",
   "execution_count": 9,
   "metadata": {},
   "outputs": [
    {
     "data": {
      "text/plain": [
       "age                           0\n",
       "sex                           0\n",
       "cp                            0\n",
       "trestbps                     56\n",
       "chol                          7\n",
       "fbs                           7\n",
       "restecg                       0\n",
       "thalach                      53\n",
       "exang                        53\n",
       "oldpeak                      56\n",
       "slope                       102\n",
       "ca                          197\n",
       "thal                        165\n",
       "presence of heartdisease      0\n",
       "dtype: int64"
      ]
     },
     "execution_count": 9,
     "metadata": {},
     "output_type": "execute_result"
    }
   ],
   "source": [
    "df1.isnull().sum()"
   ]
  },
  {
   "cell_type": "code",
   "execution_count": 10,
   "metadata": {},
   "outputs": [],
   "source": [
    "#missing values are present lets remove them column by column\n",
    "df1['trestbps'].fillna(df1['trestbps'].mean(),inplace=True)"
   ]
  },
  {
   "cell_type": "code",
   "execution_count": 11,
   "metadata": {},
   "outputs": [],
   "source": [
    "df1['chol'].fillna(df1['chol'].mean(),inplace=True)"
   ]
  },
  {
   "cell_type": "code",
   "execution_count": 12,
   "metadata": {},
   "outputs": [],
   "source": [
    "df1['fbs'].fillna(0,inplace=True)"
   ]
  },
  {
   "cell_type": "code",
   "execution_count": 13,
   "metadata": {},
   "outputs": [],
   "source": [
    "df1['thalach'].fillna(df1['thalach'].mean(),inplace=True)"
   ]
  },
  {
   "cell_type": "code",
   "execution_count": 14,
   "metadata": {},
   "outputs": [],
   "source": [
    "df1['exang'].fillna(0,inplace=True)"
   ]
  },
  {
   "cell_type": "code",
   "execution_count": 15,
   "metadata": {},
   "outputs": [],
   "source": [
    "df1['oldpeak'].fillna(df1['oldpeak'].mean(),inplace=True)"
   ]
  },
  {
   "cell_type": "code",
   "execution_count": 16,
   "metadata": {},
   "outputs": [],
   "source": [
    "df1['slope'].fillna(df1['slope'].mean(),inplace=True)"
   ]
  },
  {
   "cell_type": "code",
   "execution_count": 17,
   "metadata": {},
   "outputs": [],
   "source": [
    "df1['ca'].fillna(df1['slope'].mean(),inplace=True)"
   ]
  },
  {
   "cell_type": "code",
   "execution_count": 18,
   "metadata": {},
   "outputs": [],
   "source": [
    "df1['thal'].fillna(df1['thalach'].mean(),inplace=True)"
   ]
  },
  {
   "cell_type": "code",
   "execution_count": null,
   "metadata": {},
   "outputs": [],
   "source": []
  },
  {
   "cell_type": "code",
   "execution_count": 19,
   "metadata": {},
   "outputs": [
    {
     "data": {
      "text/html": [
       "<div>\n",
       "<style scoped>\n",
       "    .dataframe tbody tr th:only-of-type {\n",
       "        vertical-align: middle;\n",
       "    }\n",
       "\n",
       "    .dataframe tbody tr th {\n",
       "        vertical-align: top;\n",
       "    }\n",
       "\n",
       "    .dataframe thead th {\n",
       "        text-align: right;\n",
       "    }\n",
       "</style>\n",
       "<table border=\"1\" class=\"dataframe\">\n",
       "  <thead>\n",
       "    <tr style=\"text-align: right;\">\n",
       "      <th></th>\n",
       "      <th>age</th>\n",
       "      <th>sex</th>\n",
       "      <th>cp</th>\n",
       "      <th>trestbps</th>\n",
       "      <th>chol</th>\n",
       "      <th>fbs</th>\n",
       "      <th>restecg</th>\n",
       "      <th>thalach</th>\n",
       "      <th>exang</th>\n",
       "      <th>oldpeak</th>\n",
       "      <th>slope</th>\n",
       "      <th>ca</th>\n",
       "      <th>thal</th>\n",
       "      <th>presence of heartdisease</th>\n",
       "    </tr>\n",
       "  </thead>\n",
       "  <tbody>\n",
       "    <tr>\n",
       "      <td>0</td>\n",
       "      <td>44</td>\n",
       "      <td>1</td>\n",
       "      <td>4</td>\n",
       "      <td>130.0</td>\n",
       "      <td>209.0</td>\n",
       "      <td>0.0</td>\n",
       "      <td>1</td>\n",
       "      <td>127.0</td>\n",
       "      <td>0.0</td>\n",
       "      <td>0.0</td>\n",
       "      <td>2.134021</td>\n",
       "      <td>2.134021</td>\n",
       "      <td>122.869863</td>\n",
       "      <td>0</td>\n",
       "    </tr>\n",
       "    <tr>\n",
       "      <td>1</td>\n",
       "      <td>60</td>\n",
       "      <td>1</td>\n",
       "      <td>4</td>\n",
       "      <td>132.0</td>\n",
       "      <td>218.0</td>\n",
       "      <td>0.0</td>\n",
       "      <td>1</td>\n",
       "      <td>140.0</td>\n",
       "      <td>1.0</td>\n",
       "      <td>1.5</td>\n",
       "      <td>3.000000</td>\n",
       "      <td>2.134021</td>\n",
       "      <td>122.869863</td>\n",
       "      <td>2</td>\n",
       "    </tr>\n",
       "    <tr>\n",
       "      <td>2</td>\n",
       "      <td>55</td>\n",
       "      <td>1</td>\n",
       "      <td>4</td>\n",
       "      <td>142.0</td>\n",
       "      <td>228.0</td>\n",
       "      <td>0.0</td>\n",
       "      <td>1</td>\n",
       "      <td>149.0</td>\n",
       "      <td>1.0</td>\n",
       "      <td>2.5</td>\n",
       "      <td>1.000000</td>\n",
       "      <td>2.134021</td>\n",
       "      <td>122.869863</td>\n",
       "      <td>1</td>\n",
       "    </tr>\n",
       "    <tr>\n",
       "      <td>3</td>\n",
       "      <td>66</td>\n",
       "      <td>1</td>\n",
       "      <td>3</td>\n",
       "      <td>110.0</td>\n",
       "      <td>213.0</td>\n",
       "      <td>1.0</td>\n",
       "      <td>2</td>\n",
       "      <td>99.0</td>\n",
       "      <td>1.0</td>\n",
       "      <td>1.3</td>\n",
       "      <td>2.000000</td>\n",
       "      <td>2.134021</td>\n",
       "      <td>122.869863</td>\n",
       "      <td>0</td>\n",
       "    </tr>\n",
       "    <tr>\n",
       "      <td>4</td>\n",
       "      <td>66</td>\n",
       "      <td>1</td>\n",
       "      <td>3</td>\n",
       "      <td>120.0</td>\n",
       "      <td>0.0</td>\n",
       "      <td>0.0</td>\n",
       "      <td>1</td>\n",
       "      <td>120.0</td>\n",
       "      <td>0.0</td>\n",
       "      <td>-0.5</td>\n",
       "      <td>1.000000</td>\n",
       "      <td>2.134021</td>\n",
       "      <td>122.869863</td>\n",
       "      <td>0</td>\n",
       "    </tr>\n",
       "  </tbody>\n",
       "</table>\n",
       "</div>"
      ],
      "text/plain": [
       "   age  sex  cp  trestbps   chol  fbs  restecg  thalach  exang  oldpeak  \\\n",
       "0   44    1   4     130.0  209.0  0.0        1    127.0    0.0      0.0   \n",
       "1   60    1   4     132.0  218.0  0.0        1    140.0    1.0      1.5   \n",
       "2   55    1   4     142.0  228.0  0.0        1    149.0    1.0      2.5   \n",
       "3   66    1   3     110.0  213.0  1.0        2     99.0    1.0      1.3   \n",
       "4   66    1   3     120.0    0.0  0.0        1    120.0    0.0     -0.5   \n",
       "\n",
       "      slope        ca        thal  presence of heartdisease  \n",
       "0  2.134021  2.134021  122.869863                         0  \n",
       "1  3.000000  2.134021  122.869863                         2  \n",
       "2  1.000000  2.134021  122.869863                         1  \n",
       "3  2.000000  2.134021  122.869863                         0  \n",
       "4  1.000000  2.134021  122.869863                         0  "
      ]
     },
     "execution_count": 19,
     "metadata": {},
     "output_type": "execute_result"
    }
   ],
   "source": [
    "df1.head()\n",
    "#now missing values are removed"
   ]
  },
  {
   "cell_type": "code",
   "execution_count": 20,
   "metadata": {},
   "outputs": [
    {
     "data": {
      "text/plain": [
       "(199, 14)"
      ]
     },
     "execution_count": 20,
     "metadata": {},
     "output_type": "execute_result"
    }
   ],
   "source": [
    "df.shape"
   ]
  },
  {
   "cell_type": "code",
   "execution_count": null,
   "metadata": {},
   "outputs": [],
   "source": []
  },
  {
   "cell_type": "code",
   "execution_count": 21,
   "metadata": {},
   "outputs": [
    {
     "data": {
      "text/html": [
       "<div>\n",
       "<style scoped>\n",
       "    .dataframe tbody tr th:only-of-type {\n",
       "        vertical-align: middle;\n",
       "    }\n",
       "\n",
       "    .dataframe tbody tr th {\n",
       "        vertical-align: top;\n",
       "    }\n",
       "\n",
       "    .dataframe thead th {\n",
       "        text-align: right;\n",
       "    }\n",
       "</style>\n",
       "<table border=\"1\" class=\"dataframe\">\n",
       "  <thead>\n",
       "    <tr style=\"text-align: right;\">\n",
       "      <th></th>\n",
       "      <th>age</th>\n",
       "      <th>sex</th>\n",
       "      <th>cp</th>\n",
       "      <th>trestbps</th>\n",
       "      <th>chol</th>\n",
       "      <th>fbs</th>\n",
       "      <th>restecg</th>\n",
       "      <th>thalach</th>\n",
       "      <th>exang</th>\n",
       "      <th>oldpeak</th>\n",
       "      <th>slope</th>\n",
       "      <th>ca</th>\n",
       "      <th>thal</th>\n",
       "      <th>presence of heartdisease</th>\n",
       "    </tr>\n",
       "  </thead>\n",
       "  <tbody>\n",
       "    <tr>\n",
       "      <td>count</td>\n",
       "      <td>199.000000</td>\n",
       "      <td>199.000000</td>\n",
       "      <td>199.000000</td>\n",
       "      <td>199.00000</td>\n",
       "      <td>199.000000</td>\n",
       "      <td>199.000000</td>\n",
       "      <td>199.000000</td>\n",
       "      <td>199.000000</td>\n",
       "      <td>199.000000</td>\n",
       "      <td>199.000000</td>\n",
       "      <td>199.000000</td>\n",
       "      <td>199.000000</td>\n",
       "      <td>199.000000</td>\n",
       "      <td>199.000000</td>\n",
       "    </tr>\n",
       "    <tr>\n",
       "      <td>mean</td>\n",
       "      <td>59.331658</td>\n",
       "      <td>0.969849</td>\n",
       "      <td>3.502513</td>\n",
       "      <td>133.72028</td>\n",
       "      <td>178.322917</td>\n",
       "      <td>0.341709</td>\n",
       "      <td>0.733668</td>\n",
       "      <td>122.869863</td>\n",
       "      <td>0.472362</td>\n",
       "      <td>1.309091</td>\n",
       "      <td>2.134021</td>\n",
       "      <td>2.112573</td>\n",
       "      <td>102.952399</td>\n",
       "      <td>1.517588</td>\n",
       "    </tr>\n",
       "    <tr>\n",
       "      <td>std</td>\n",
       "      <td>7.827080</td>\n",
       "      <td>0.171433</td>\n",
       "      <td>0.796928</td>\n",
       "      <td>18.29815</td>\n",
       "      <td>112.144792</td>\n",
       "      <td>0.475479</td>\n",
       "      <td>0.684918</td>\n",
       "      <td>18.867497</td>\n",
       "      <td>0.500495</td>\n",
       "      <td>0.932462</td>\n",
       "      <td>0.467411</td>\n",
       "      <td>0.213397</td>\n",
       "      <td>43.990784</td>\n",
       "      <td>1.222038</td>\n",
       "    </tr>\n",
       "    <tr>\n",
       "      <td>min</td>\n",
       "      <td>35.000000</td>\n",
       "      <td>0.000000</td>\n",
       "      <td>1.000000</td>\n",
       "      <td>0.00000</td>\n",
       "      <td>0.000000</td>\n",
       "      <td>0.000000</td>\n",
       "      <td>0.000000</td>\n",
       "      <td>69.000000</td>\n",
       "      <td>0.000000</td>\n",
       "      <td>-0.500000</td>\n",
       "      <td>1.000000</td>\n",
       "      <td>0.000000</td>\n",
       "      <td>3.000000</td>\n",
       "      <td>0.000000</td>\n",
       "    </tr>\n",
       "    <tr>\n",
       "      <td>25%</td>\n",
       "      <td>55.000000</td>\n",
       "      <td>1.000000</td>\n",
       "      <td>3.000000</td>\n",
       "      <td>125.50000</td>\n",
       "      <td>119.500000</td>\n",
       "      <td>0.000000</td>\n",
       "      <td>0.000000</td>\n",
       "      <td>112.000000</td>\n",
       "      <td>0.000000</td>\n",
       "      <td>1.000000</td>\n",
       "      <td>2.000000</td>\n",
       "      <td>2.134021</td>\n",
       "      <td>122.869863</td>\n",
       "      <td>0.000000</td>\n",
       "    </tr>\n",
       "    <tr>\n",
       "      <td>50%</td>\n",
       "      <td>60.000000</td>\n",
       "      <td>1.000000</td>\n",
       "      <td>4.000000</td>\n",
       "      <td>133.72028</td>\n",
       "      <td>214.000000</td>\n",
       "      <td>0.000000</td>\n",
       "      <td>1.000000</td>\n",
       "      <td>122.869863</td>\n",
       "      <td>0.000000</td>\n",
       "      <td>1.309091</td>\n",
       "      <td>2.134021</td>\n",
       "      <td>2.134021</td>\n",
       "      <td>122.869863</td>\n",
       "      <td>1.000000</td>\n",
       "    </tr>\n",
       "    <tr>\n",
       "      <td>75%</td>\n",
       "      <td>64.000000</td>\n",
       "      <td>1.000000</td>\n",
       "      <td>4.000000</td>\n",
       "      <td>140.00000</td>\n",
       "      <td>254.000000</td>\n",
       "      <td>1.000000</td>\n",
       "      <td>1.000000</td>\n",
       "      <td>130.000000</td>\n",
       "      <td>1.000000</td>\n",
       "      <td>2.000000</td>\n",
       "      <td>2.134021</td>\n",
       "      <td>2.134021</td>\n",
       "      <td>122.869863</td>\n",
       "      <td>3.000000</td>\n",
       "    </tr>\n",
       "    <tr>\n",
       "      <td>max</td>\n",
       "      <td>77.000000</td>\n",
       "      <td>1.000000</td>\n",
       "      <td>4.000000</td>\n",
       "      <td>190.00000</td>\n",
       "      <td>458.000000</td>\n",
       "      <td>1.000000</td>\n",
       "      <td>2.000000</td>\n",
       "      <td>180.000000</td>\n",
       "      <td>1.000000</td>\n",
       "      <td>4.000000</td>\n",
       "      <td>3.000000</td>\n",
       "      <td>2.134021</td>\n",
       "      <td>122.869863</td>\n",
       "      <td>4.000000</td>\n",
       "    </tr>\n",
       "  </tbody>\n",
       "</table>\n",
       "</div>"
      ],
      "text/plain": [
       "              age         sex          cp   trestbps        chol         fbs  \\\n",
       "count  199.000000  199.000000  199.000000  199.00000  199.000000  199.000000   \n",
       "mean    59.331658    0.969849    3.502513  133.72028  178.322917    0.341709   \n",
       "std      7.827080    0.171433    0.796928   18.29815  112.144792    0.475479   \n",
       "min     35.000000    0.000000    1.000000    0.00000    0.000000    0.000000   \n",
       "25%     55.000000    1.000000    3.000000  125.50000  119.500000    0.000000   \n",
       "50%     60.000000    1.000000    4.000000  133.72028  214.000000    0.000000   \n",
       "75%     64.000000    1.000000    4.000000  140.00000  254.000000    1.000000   \n",
       "max     77.000000    1.000000    4.000000  190.00000  458.000000    1.000000   \n",
       "\n",
       "          restecg     thalach       exang     oldpeak       slope          ca  \\\n",
       "count  199.000000  199.000000  199.000000  199.000000  199.000000  199.000000   \n",
       "mean     0.733668  122.869863    0.472362    1.309091    2.134021    2.112573   \n",
       "std      0.684918   18.867497    0.500495    0.932462    0.467411    0.213397   \n",
       "min      0.000000   69.000000    0.000000   -0.500000    1.000000    0.000000   \n",
       "25%      0.000000  112.000000    0.000000    1.000000    2.000000    2.134021   \n",
       "50%      1.000000  122.869863    0.000000    1.309091    2.134021    2.134021   \n",
       "75%      1.000000  130.000000    1.000000    2.000000    2.134021    2.134021   \n",
       "max      2.000000  180.000000    1.000000    4.000000    3.000000    2.134021   \n",
       "\n",
       "             thal  presence of heartdisease  \n",
       "count  199.000000                199.000000  \n",
       "mean   102.952399                  1.517588  \n",
       "std     43.990784                  1.222038  \n",
       "min      3.000000                  0.000000  \n",
       "25%    122.869863                  0.000000  \n",
       "50%    122.869863                  1.000000  \n",
       "75%    122.869863                  3.000000  \n",
       "max    122.869863                  4.000000  "
      ]
     },
     "execution_count": 21,
     "metadata": {},
     "output_type": "execute_result"
    }
   ],
   "source": [
    "df1.describe()"
   ]
  },
  {
   "cell_type": "code",
   "execution_count": 22,
   "metadata": {},
   "outputs": [
    {
     "data": {
      "image/png": "[encoded data removed]",
      "text/plain": [
       "<Figure size 576x432 with 1 Axes>"
      ]
     },
     "metadata": {
      "needs_background": "light"
     },
     "output_type": "display_data"
    }
   ],
   "source": [
    "plt.rcParams['figure.figsize'] = (8, 6)\n",
    "sns.countplot(x='presence of heartdisease', data=df1);"
   ]
  },
  {
   "cell_type": "code",
   "execution_count": 23,
   "metadata": {},
   "outputs": [
    {
     "data": {
      "text/plain": [
       "sex  presence of heartdisease\n",
       "0    0                            3\n",
       "     1                            3\n",
       "1    0                           48\n",
       "     1                           53\n",
       "     2                           40\n",
       "     3                           42\n",
       "     4                           10\n",
       "Name: presence of heartdisease, dtype: int64"
      ]
     },
     "execution_count": 23,
     "metadata": {},
     "output_type": "execute_result"
    }
   ],
   "source": [
    "df1.groupby(by=['sex', 'presence of heartdisease'])['presence of heartdisease'].count()\n",
    "#female is 0 and male is 1"
   ]
  },
  {
   "cell_type": "code",
   "execution_count": 24,
   "metadata": {},
   "outputs": [
    {
     "data": {
      "text/plain": [
       "1    193\n",
       "0      6\n",
       "Name: sex, dtype: int64"
      ]
     },
     "execution_count": 24,
     "metadata": {},
     "output_type": "execute_result"
    }
   ],
   "source": [
    "df1['sex'].value_counts()"
   ]
  },
  {
   "cell_type": "code",
   "execution_count": 25,
   "metadata": {},
   "outputs": [
    {
     "data": {
      "text/plain": [
       "<matplotlib.axes._subplots.AxesSubplot at 0x27ff2f62208>"
      ]
     },
     "execution_count": 25,
     "metadata": {},
     "output_type": "execute_result"
    },
    {
     "data": {
      "image/png": "[encoded data removed]",
      "text/plain": [
       "<Figure size 576x432 with 1 Axes>"
      ]
     },
     "metadata": {
      "needs_background": "light"
     },
     "output_type": "display_data"
    }
   ],
   "source": [
    "df1['sex'].value_counts().plot.bar(color=\"orange\")"
   ]
  },
  {
   "cell_type": "code",
   "execution_count": 26,
   "metadata": {},
   "outputs": [
    {
     "data": {
      "text/html": [
       "<div>\n",
       "<style scoped>\n",
       "    .dataframe tbody tr th:only-of-type {\n",
       "        vertical-align: middle;\n",
       "    }\n",
       "\n",
       "    .dataframe tbody tr th {\n",
       "        vertical-align: top;\n",
       "    }\n",
       "\n",
       "    .dataframe thead th {\n",
       "        text-align: right;\n",
       "    }\n",
       "</style>\n",
       "<table border=\"1\" class=\"dataframe\">\n",
       "  <thead>\n",
       "    <tr style=\"text-align: right;\">\n",
       "      <th>presence of heartdisease</th>\n",
       "      <th>0</th>\n",
       "      <th>1</th>\n",
       "      <th>2</th>\n",
       "      <th>3</th>\n",
       "      <th>4</th>\n",
       "    </tr>\n",
       "    <tr>\n",
       "      <th>sex</th>\n",
       "      <th></th>\n",
       "      <th></th>\n",
       "      <th></th>\n",
       "      <th></th>\n",
       "      <th></th>\n",
       "    </tr>\n",
       "  </thead>\n",
       "  <tbody>\n",
       "    <tr>\n",
       "      <td>0</td>\n",
       "      <td>3</td>\n",
       "      <td>3</td>\n",
       "      <td>0</td>\n",
       "      <td>0</td>\n",
       "      <td>0</td>\n",
       "    </tr>\n",
       "    <tr>\n",
       "      <td>1</td>\n",
       "      <td>48</td>\n",
       "      <td>53</td>\n",
       "      <td>40</td>\n",
       "      <td>42</td>\n",
       "      <td>10</td>\n",
       "    </tr>\n",
       "  </tbody>\n",
       "</table>\n",
       "</div>"
      ],
      "text/plain": [
       "presence of heartdisease   0   1   2   3   4\n",
       "sex                                         \n",
       "0                          3   3   0   0   0\n",
       "1                         48  53  40  42  10"
      ]
     },
     "execution_count": 26,
     "metadata": {},
     "output_type": "execute_result"
    }
   ],
   "source": [
    "pd.crosstab(df1['sex'], df1['presence of heartdisease'])\n",
    "#0 is female 1 is male we can say out of 193 males 48 males dont have heart disease while 6 females out of which 3 females dont have heart disease"
   ]
  },
  {
   "cell_type": "code",
   "execution_count": 27,
   "metadata": {},
   "outputs": [
    {
     "data": {
      "image/png": "[encoded data removed]",
      "text/plain": [
       "<Figure size 1800x360 with 5 Axes>"
      ]
     },
     "metadata": {
      "needs_background": "light"
     },
     "output_type": "display_data"
    }
   ],
   "source": [
    "sns.catplot(x='sex', col='presence of heartdisease', kind='count', data=df1);"
   ]
  },
  {
   "cell_type": "code",
   "execution_count": 28,
   "metadata": {},
   "outputs": [
    {
     "data": {
      "text/plain": [
       "cp  presence of heartdisease\n",
       "1   0                            3\n",
       "    1                            1\n",
       "    2                            1\n",
       "    3                            3\n",
       "2   0                            9\n",
       "    1                            4\n",
       "    2                            1\n",
       "3   0                           16\n",
       "    1                            9\n",
       "    2                            8\n",
       "    3                           11\n",
       "    4                            3\n",
       "4   0                           23\n",
       "    1                           42\n",
       "    2                           30\n",
       "    3                           28\n",
       "    4                            7\n",
       "Name: presence of heartdisease, dtype: int64"
      ]
     },
     "execution_count": 28,
     "metadata": {},
     "output_type": "execute_result"
    }
   ],
   "source": [
    "df1.groupby(by=['cp', 'presence of heartdisease'])['presence of heartdisease'].count()"
   ]
  },
  {
   "cell_type": "code",
   "execution_count": 29,
   "metadata": {},
   "outputs": [
    {
     "data": {
      "text/html": [
       "<div>\n",
       "<style scoped>\n",
       "    .dataframe tbody tr th:only-of-type {\n",
       "        vertical-align: middle;\n",
       "    }\n",
       "\n",
       "    .dataframe tbody tr th {\n",
       "        vertical-align: top;\n",
       "    }\n",
       "\n",
       "    .dataframe thead th {\n",
       "        text-align: right;\n",
       "    }\n",
       "</style>\n",
       "<table border=\"1\" class=\"dataframe\">\n",
       "  <thead>\n",
       "    <tr style=\"text-align: right;\">\n",
       "      <th>presence of heartdisease</th>\n",
       "      <th>0</th>\n",
       "      <th>1</th>\n",
       "      <th>2</th>\n",
       "      <th>3</th>\n",
       "      <th>4</th>\n",
       "    </tr>\n",
       "    <tr>\n",
       "      <th>cp</th>\n",
       "      <th></th>\n",
       "      <th></th>\n",
       "      <th></th>\n",
       "      <th></th>\n",
       "      <th></th>\n",
       "    </tr>\n",
       "  </thead>\n",
       "  <tbody>\n",
       "    <tr>\n",
       "      <td>1</td>\n",
       "      <td>3</td>\n",
       "      <td>1</td>\n",
       "      <td>1</td>\n",
       "      <td>3</td>\n",
       "      <td>0</td>\n",
       "    </tr>\n",
       "    <tr>\n",
       "      <td>2</td>\n",
       "      <td>9</td>\n",
       "      <td>4</td>\n",
       "      <td>1</td>\n",
       "      <td>0</td>\n",
       "      <td>0</td>\n",
       "    </tr>\n",
       "    <tr>\n",
       "      <td>3</td>\n",
       "      <td>16</td>\n",
       "      <td>9</td>\n",
       "      <td>8</td>\n",
       "      <td>11</td>\n",
       "      <td>3</td>\n",
       "    </tr>\n",
       "    <tr>\n",
       "      <td>4</td>\n",
       "      <td>23</td>\n",
       "      <td>42</td>\n",
       "      <td>30</td>\n",
       "      <td>28</td>\n",
       "      <td>7</td>\n",
       "    </tr>\n",
       "  </tbody>\n",
       "</table>\n",
       "</div>"
      ],
      "text/plain": [
       "presence of heartdisease   0   1   2   3  4\n",
       "cp                                         \n",
       "1                          3   1   1   3  0\n",
       "2                          9   4   1   0  0\n",
       "3                         16   9   8  11  3\n",
       "4                         23  42  30  28  7"
      ]
     },
     "execution_count": 29,
     "metadata": {},
     "output_type": "execute_result"
    }
   ],
   "source": [
    "pd.crosstab(df1['cp'], df1['presence of heartdisease'])"
   ]
  },
  {
   "cell_type": "code",
   "execution_count": 30,
   "metadata": {},
   "outputs": [
    {
     "data": {
      "image/png": "[encoded data removed]",
      "text/plain": [
       "<Figure size 1800x360 with 5 Axes>"
      ]
     },
     "metadata": {
      "needs_background": "light"
     },
     "output_type": "display_data"
    }
   ],
   "source": [
    "sns.catplot(x='cp', col='presence of heartdisease', kind='count', data=df1);"
   ]
  },
  {
   "cell_type": "code",
   "execution_count": 31,
   "metadata": {},
   "outputs": [
    {
     "data": {
      "text/plain": [
       "slope     presence of heartdisease\n",
       "1.000000  0                            3\n",
       "          1                            5\n",
       "          2                            3\n",
       "          3                            5\n",
       "2.000000  0                            9\n",
       "          1                           18\n",
       "          2                           12\n",
       "          3                           12\n",
       "          4                            1\n",
       "2.134021  0                           36\n",
       "          1                           27\n",
       "          2                           16\n",
       "          3                           19\n",
       "          4                            4\n",
       "3.000000  0                            3\n",
       "          1                            6\n",
       "          2                            9\n",
       "          3                            6\n",
       "          4                            5\n",
       "Name: presence of heartdisease, dtype: int64"
      ]
     },
     "execution_count": 31,
     "metadata": {},
     "output_type": "execute_result"
    }
   ],
   "source": [
    "df1.groupby(by=['slope', 'presence of heartdisease'])['presence of heartdisease'].count()"
   ]
  },
  {
   "cell_type": "code",
   "execution_count": 32,
   "metadata": {},
   "outputs": [
    {
     "data": {
      "text/plain": [
       "<seaborn.axisgrid.FacetGrid at 0x27ff34053c8>"
      ]
     },
     "execution_count": 32,
     "metadata": {},
     "output_type": "execute_result"
    },
    {
     "data": {
      "image/png": "[encoded data removed]",
      "text/plain": [
       "<Figure size 1800x360 with 5 Axes>"
      ]
     },
     "metadata": {
      "needs_background": "light"
     },
     "output_type": "display_data"
    }
   ],
   "source": [
    "sns.catplot(x='thal', col='presence of heartdisease', kind='count', data=df1)"
   ]
  },
  {
   "cell_type": "code",
   "execution_count": 33,
   "metadata": {},
   "outputs": [
    {
     "data": {
      "text/plain": [
       "<matplotlib.axes._subplots.AxesSubplot at 0x27ff3137ec8>"
      ]
     },
     "execution_count": 33,
     "metadata": {},
     "output_type": "execute_result"
    },
    {
     "data": {
      "image/png": "[encoded data removed]",
      "text/plain": [
       "<Figure size 576x432 with 1 Axes>"
      ]
     },
     "metadata": {
      "needs_background": "light"
     },
     "output_type": "display_data"
    }
   ],
   "source": [
    "sns.distplot(a=df1['age'], color='violet')\n",
    "#more spread over 55 to 65 (approx)"
   ]
  },
  {
   "cell_type": "code",
   "execution_count": 34,
   "metadata": {},
   "outputs": [
    {
     "data": {
      "text/plain": [
       "62    15\n",
       "63    14\n",
       "55    14\n",
       "60    12\n",
       "58    12\n",
       "61    12\n",
       "57    10\n",
       "64     9\n",
       "56     9\n",
       "69     8\n",
       "59     8\n",
       "54     7\n",
       "51     7\n",
       "65     6\n",
       "74     5\n",
       "67     5\n",
       "53     5\n",
       "68     4\n",
       "48     4\n",
       "72     3\n",
       "66     3\n",
       "75     3\n",
       "40     2\n",
       "46     2\n",
       "50     2\n",
       "49     2\n",
       "41     2\n",
       "52     2\n",
       "71     2\n",
       "42     1\n",
       "37     1\n",
       "38     1\n",
       "77     1\n",
       "43     1\n",
       "44     1\n",
       "45     1\n",
       "76     1\n",
       "70     1\n",
       "35     1\n",
       "Name: age, dtype: int64"
      ]
     },
     "execution_count": 34,
     "metadata": {},
     "output_type": "execute_result"
    }
   ],
   "source": [
    "df1['age'].value_counts()"
   ]
  },
  {
   "cell_type": "code",
   "execution_count": 35,
   "metadata": {},
   "outputs": [
    {
     "data": {
      "text/plain": [
       "<matplotlib.axes._subplots.AxesSubplot at 0x27ff3570c48>"
      ]
     },
     "execution_count": 35,
     "metadata": {},
     "output_type": "execute_result"
    },
    {
     "data": {
      "image/png": "[encoded data removed]",
      "text/plain": [
       "<Figure size 576x432 with 1 Axes>"
      ]
     },
     "metadata": {
      "needs_background": "light"
     },
     "output_type": "display_data"
    }
   ],
   "source": [
    "sns.scatterplot(x='chol', y='thalach', data=df1, hue='presence of heartdisease'[:50])"
   ]
  },
  {
   "cell_type": "code",
   "execution_count": 36,
   "metadata": {},
   "outputs": [
    {
     "data": {
      "text/plain": [
       "<matplotlib.axes._subplots.AxesSubplot at 0x27ff36027c8>"
      ]
     },
     "execution_count": 36,
     "metadata": {},
     "output_type": "execute_result"
    },
    {
     "data": {
      "image/png": "[encoded data removed]",
      "text/plain": [
       "<Figure size 576x432 with 1 Axes>"
      ]
     },
     "metadata": {
      "needs_background": "light"
     },
     "output_type": "display_data"
    }
   ],
   "source": [
    "sns.scatterplot(x='chol', y='oldpeak', data=df1, hue='presence of heartdisease'[:50])"
   ]
  },
  {
   "cell_type": "code",
   "execution_count": 37,
   "metadata": {},
   "outputs": [
    {
     "data": {
      "text/plain": [
       "<seaborn.axisgrid.PairGrid at 0x27ff3667448>"
      ]
     },
     "execution_count": 37,
     "metadata": {},
     "output_type": "execute_result"
    },
    {
     "data": {
      "image/png": "[encoded data removed]",
      "text/plain": [
       "<Figure size 900x900 with 30 Axes>"
      ]
     },
     "metadata": {
      "needs_background": "light"
     },
     "output_type": "display_data"
    }
   ],
   "source": [
    "sns.pairplot(df)"
   ]
  },
  {
   "cell_type": "code",
   "execution_count": 38,
   "metadata": {},
   "outputs": [
    {
     "data": {
      "text/plain": [
       "{'bodies': [<matplotlib.collections.PolyCollection at 0x27ff388a6c8>],\n",
       " 'cmaxes': <matplotlib.collections.LineCollection at 0x27ff329b948>,\n",
       " 'cmins': <matplotlib.collections.LineCollection at 0x27ff395de48>,\n",
       " 'cbars': <matplotlib.collections.LineCollection at 0x27ff395d3c8>}"
      ]
     },
     "execution_count": 38,
     "metadata": {},
     "output_type": "execute_result"
    },
    {
     "data": {
      "image/png": "[encoded data removed]",
      "text/plain": [
       "<Figure size 576x432 with 1 Axes>"
      ]
     },
     "metadata": {
      "needs_background": "light"
     },
     "output_type": "display_data"
    }
   ],
   "source": [
    "plt.violinplot(df1['fbs'])\n",
    "#value spread over 0 and 1"
   ]
  },
  {
   "cell_type": "code",
   "execution_count": 39,
   "metadata": {},
   "outputs": [
    {
     "data": {
      "text/plain": [
       "<seaborn.axisgrid.PairGrid at 0x27ff3981348>"
      ]
     },
     "execution_count": 39,
     "metadata": {},
     "output_type": "execute_result"
    },
    {
     "data": {
      "image/png": "[encoded data removed]",
      "text/plain": [
       "<Figure size 1034.5x900 with 30 Axes>"
      ]
     },
     "metadata": {
      "needs_background": "light"
     },
     "output_type": "display_data"
    }
   ],
   "source": [
    "sns.pairplot(df1[['chol', 'age', 'trestbps', 'thalach', 'presence of heartdisease']], hue='presence of heartdisease')"
   ]
  },
  {
   "cell_type": "code",
   "execution_count": 40,
   "metadata": {},
   "outputs": [
    {
     "data": {
      "text/html": [
       "<div>\n",
       "<style scoped>\n",
       "    .dataframe tbody tr th:only-of-type {\n",
       "        vertical-align: middle;\n",
       "    }\n",
       "\n",
       "    .dataframe tbody tr th {\n",
       "        vertical-align: top;\n",
       "    }\n",
       "\n",
       "    .dataframe thead th {\n",
       "        text-align: right;\n",
       "    }\n",
       "</style>\n",
       "<table border=\"1\" class=\"dataframe\">\n",
       "  <thead>\n",
       "    <tr style=\"text-align: right;\">\n",
       "      <th></th>\n",
       "      <th>age</th>\n",
       "      <th>sex</th>\n",
       "      <th>cp</th>\n",
       "      <th>trestbps</th>\n",
       "      <th>chol</th>\n",
       "      <th>fbs</th>\n",
       "      <th>restecg</th>\n",
       "      <th>thalach</th>\n",
       "      <th>exang</th>\n",
       "      <th>oldpeak</th>\n",
       "      <th>slope</th>\n",
       "      <th>ca</th>\n",
       "      <th>thal</th>\n",
       "      <th>presence of heartdisease</th>\n",
       "    </tr>\n",
       "  </thead>\n",
       "  <tbody>\n",
       "    <tr>\n",
       "      <td>age</td>\n",
       "      <td>1.000000</td>\n",
       "      <td>0.033837</td>\n",
       "      <td>-0.039809</td>\n",
       "      <td>0.180915</td>\n",
       "      <td>0.065347</td>\n",
       "      <td>0.137672</td>\n",
       "      <td>0.001487</td>\n",
       "      <td>-0.148786</td>\n",
       "      <td>0.104202</td>\n",
       "      <td>0.154215</td>\n",
       "      <td>0.100705</td>\n",
       "      <td>0.023639</td>\n",
       "      <td>0.068176</td>\n",
       "      <td>0.286630</td>\n",
       "    </tr>\n",
       "    <tr>\n",
       "      <td>sex</td>\n",
       "      <td>0.033837</td>\n",
       "      <td>1.000000</td>\n",
       "      <td>0.037525</td>\n",
       "      <td>0.012238</td>\n",
       "      <td>-0.096953</td>\n",
       "      <td>-0.058846</td>\n",
       "      <td>0.060305</td>\n",
       "      <td>-0.001016</td>\n",
       "      <td>-0.009761</td>\n",
       "      <td>0.096219</td>\n",
       "      <td>0.088371</td>\n",
       "      <td>-0.017766</td>\n",
       "      <td>0.075163</td>\n",
       "      <td>0.147190</td>\n",
       "    </tr>\n",
       "    <tr>\n",
       "      <td>cp</td>\n",
       "      <td>-0.039809</td>\n",
       "      <td>0.037525</td>\n",
       "      <td>1.000000</td>\n",
       "      <td>0.073888</td>\n",
       "      <td>0.063650</td>\n",
       "      <td>-0.042263</td>\n",
       "      <td>0.033617</td>\n",
       "      <td>-0.122405</td>\n",
       "      <td>0.275582</td>\n",
       "      <td>0.036454</td>\n",
       "      <td>0.029214</td>\n",
       "      <td>-0.063058</td>\n",
       "      <td>-0.132250</td>\n",
       "      <td>0.167202</td>\n",
       "    </tr>\n",
       "    <tr>\n",
       "      <td>trestbps</td>\n",
       "      <td>0.180915</td>\n",
       "      <td>0.012238</td>\n",
       "      <td>0.073888</td>\n",
       "      <td>1.000000</td>\n",
       "      <td>0.149121</td>\n",
       "      <td>0.193807</td>\n",
       "      <td>0.091401</td>\n",
       "      <td>-0.012047</td>\n",
       "      <td>0.180187</td>\n",
       "      <td>0.113345</td>\n",
       "      <td>0.092285</td>\n",
       "      <td>-0.018105</td>\n",
       "      <td>-0.011406</td>\n",
       "      <td>0.141186</td>\n",
       "    </tr>\n",
       "    <tr>\n",
       "      <td>chol</td>\n",
       "      <td>0.065347</td>\n",
       "      <td>-0.096953</td>\n",
       "      <td>0.063650</td>\n",
       "      <td>0.149121</td>\n",
       "      <td>1.000000</td>\n",
       "      <td>0.176457</td>\n",
       "      <td>0.022824</td>\n",
       "      <td>-0.039052</td>\n",
       "      <td>0.011004</td>\n",
       "      <td>-0.005121</td>\n",
       "      <td>0.059860</td>\n",
       "      <td>0.115585</td>\n",
       "      <td>0.056145</td>\n",
       "      <td>0.075094</td>\n",
       "    </tr>\n",
       "    <tr>\n",
       "      <td>fbs</td>\n",
       "      <td>0.137672</td>\n",
       "      <td>-0.058846</td>\n",
       "      <td>-0.042263</td>\n",
       "      <td>0.193807</td>\n",
       "      <td>0.176457</td>\n",
       "      <td>1.000000</td>\n",
       "      <td>0.172306</td>\n",
       "      <td>0.036096</td>\n",
       "      <td>-0.214788</td>\n",
       "      <td>-0.100347</td>\n",
       "      <td>0.005623</td>\n",
       "      <td>0.072594</td>\n",
       "      <td>-0.123030</td>\n",
       "      <td>0.050448</td>\n",
       "    </tr>\n",
       "    <tr>\n",
       "      <td>restecg</td>\n",
       "      <td>0.001487</td>\n",
       "      <td>0.060305</td>\n",
       "      <td>0.033617</td>\n",
       "      <td>0.091401</td>\n",
       "      <td>0.022824</td>\n",
       "      <td>0.172306</td>\n",
       "      <td>1.000000</td>\n",
       "      <td>0.013548</td>\n",
       "      <td>-0.087881</td>\n",
       "      <td>-0.111718</td>\n",
       "      <td>-0.018541</td>\n",
       "      <td>0.034462</td>\n",
       "      <td>-0.059072</td>\n",
       "      <td>-0.033597</td>\n",
       "    </tr>\n",
       "    <tr>\n",
       "      <td>thalach</td>\n",
       "      <td>-0.148786</td>\n",
       "      <td>-0.001016</td>\n",
       "      <td>-0.122405</td>\n",
       "      <td>-0.012047</td>\n",
       "      <td>-0.039052</td>\n",
       "      <td>0.036096</td>\n",
       "      <td>0.013548</td>\n",
       "      <td>1.000000</td>\n",
       "      <td>-0.059777</td>\n",
       "      <td>0.178435</td>\n",
       "      <td>-0.123312</td>\n",
       "      <td>-0.014081</td>\n",
       "      <td>0.007283</td>\n",
       "      <td>-0.078186</td>\n",
       "    </tr>\n",
       "    <tr>\n",
       "      <td>exang</td>\n",
       "      <td>0.104202</td>\n",
       "      <td>-0.009761</td>\n",
       "      <td>0.275582</td>\n",
       "      <td>0.180187</td>\n",
       "      <td>0.011004</td>\n",
       "      <td>-0.214788</td>\n",
       "      <td>-0.087881</td>\n",
       "      <td>-0.059777</td>\n",
       "      <td>1.000000</td>\n",
       "      <td>0.250577</td>\n",
       "      <td>0.091031</td>\n",
       "      <td>-0.106491</td>\n",
       "      <td>-0.130987</td>\n",
       "      <td>0.258847</td>\n",
       "    </tr>\n",
       "    <tr>\n",
       "      <td>oldpeak</td>\n",
       "      <td>0.154215</td>\n",
       "      <td>0.096219</td>\n",
       "      <td>0.036454</td>\n",
       "      <td>0.113345</td>\n",
       "      <td>-0.005121</td>\n",
       "      <td>-0.100347</td>\n",
       "      <td>-0.111718</td>\n",
       "      <td>0.178435</td>\n",
       "      <td>0.250577</td>\n",
       "      <td>1.000000</td>\n",
       "      <td>0.230157</td>\n",
       "      <td>-0.020681</td>\n",
       "      <td>0.167466</td>\n",
       "      <td>0.378550</td>\n",
       "    </tr>\n",
       "    <tr>\n",
       "      <td>slope</td>\n",
       "      <td>0.100705</td>\n",
       "      <td>0.088371</td>\n",
       "      <td>0.029214</td>\n",
       "      <td>0.092285</td>\n",
       "      <td>0.059860</td>\n",
       "      <td>0.005623</td>\n",
       "      <td>-0.018541</td>\n",
       "      <td>-0.123312</td>\n",
       "      <td>0.091031</td>\n",
       "      <td>0.230157</td>\n",
       "      <td>1.000000</td>\n",
       "      <td>0.014482</td>\n",
       "      <td>0.040313</td>\n",
       "      <td>0.116860</td>\n",
       "    </tr>\n",
       "    <tr>\n",
       "      <td>ca</td>\n",
       "      <td>0.023639</td>\n",
       "      <td>-0.017766</td>\n",
       "      <td>-0.063058</td>\n",
       "      <td>-0.018105</td>\n",
       "      <td>0.115585</td>\n",
       "      <td>0.072594</td>\n",
       "      <td>0.034462</td>\n",
       "      <td>-0.014081</td>\n",
       "      <td>-0.106491</td>\n",
       "      <td>-0.020681</td>\n",
       "      <td>0.014482</td>\n",
       "      <td>1.000000</td>\n",
       "      <td>0.087297</td>\n",
       "      <td>0.084113</td>\n",
       "    </tr>\n",
       "    <tr>\n",
       "      <td>thal</td>\n",
       "      <td>0.068176</td>\n",
       "      <td>0.075163</td>\n",
       "      <td>-0.132250</td>\n",
       "      <td>-0.011406</td>\n",
       "      <td>0.056145</td>\n",
       "      <td>-0.123030</td>\n",
       "      <td>-0.059072</td>\n",
       "      <td>0.007283</td>\n",
       "      <td>-0.130987</td>\n",
       "      <td>0.167466</td>\n",
       "      <td>0.040313</td>\n",
       "      <td>0.087297</td>\n",
       "      <td>1.000000</td>\n",
       "      <td>0.127326</td>\n",
       "    </tr>\n",
       "    <tr>\n",
       "      <td>presence of heartdisease</td>\n",
       "      <td>0.286630</td>\n",
       "      <td>0.147190</td>\n",
       "      <td>0.167202</td>\n",
       "      <td>0.141186</td>\n",
       "      <td>0.075094</td>\n",
       "      <td>0.050448</td>\n",
       "      <td>-0.033597</td>\n",
       "      <td>-0.078186</td>\n",
       "      <td>0.258847</td>\n",
       "      <td>0.378550</td>\n",
       "      <td>0.116860</td>\n",
       "      <td>0.084113</td>\n",
       "      <td>0.127326</td>\n",
       "      <td>1.000000</td>\n",
       "    </tr>\n",
       "  </tbody>\n",
       "</table>\n",
       "</div>"
      ],
      "text/plain": [
       "                               age       sex        cp  trestbps      chol  \\\n",
       "age                       1.000000  0.033837 -0.039809  0.180915  0.065347   \n",
       "sex                       0.033837  1.000000  0.037525  0.012238 -0.096953   \n",
       "cp                       -0.039809  0.037525  1.000000  0.073888  0.063650   \n",
       "trestbps                  0.180915  0.012238  0.073888  1.000000  0.149121   \n",
       "chol                      0.065347 -0.096953  0.063650  0.149121  1.000000   \n",
       "fbs                       0.137672 -0.058846 -0.042263  0.193807  0.176457   \n",
       "restecg                   0.001487  0.060305  0.033617  0.091401  0.022824   \n",
       "thalach                  -0.148786 -0.001016 -0.122405 -0.012047 -0.039052   \n",
       "exang                     0.104202 -0.009761  0.275582  0.180187  0.011004   \n",
       "oldpeak                   0.154215  0.096219  0.036454  0.113345 -0.005121   \n",
       "slope                     0.100705  0.088371  0.029214  0.092285  0.059860   \n",
       "ca                        0.023639 -0.017766 -0.063058 -0.018105  0.115585   \n",
       "thal                      0.068176  0.075163 -0.132250 -0.011406  0.056145   \n",
       "presence of heartdisease  0.286630  0.147190  0.167202  0.141186  0.075094   \n",
       "\n",
       "                               fbs   restecg   thalach     exang   oldpeak  \\\n",
       "age                       0.137672  0.001487 -0.148786  0.104202  0.154215   \n",
       "sex                      -0.058846  0.060305 -0.001016 -0.009761  0.096219   \n",
       "cp                       -0.042263  0.033617 -0.122405  0.275582  0.036454   \n",
       "trestbps                  0.193807  0.091401 -0.012047  0.180187  0.113345   \n",
       "chol                      0.176457  0.022824 -0.039052  0.011004 -0.005121   \n",
       "fbs                       1.000000  0.172306  0.036096 -0.214788 -0.100347   \n",
       "restecg                   0.172306  1.000000  0.013548 -0.087881 -0.111718   \n",
       "thalach                   0.036096  0.013548  1.000000 -0.059777  0.178435   \n",
       "exang                    -0.214788 -0.087881 -0.059777  1.000000  0.250577   \n",
       "oldpeak                  -0.100347 -0.111718  0.178435  0.250577  1.000000   \n",
       "slope                     0.005623 -0.018541 -0.123312  0.091031  0.230157   \n",
       "ca                        0.072594  0.034462 -0.014081 -0.106491 -0.020681   \n",
       "thal                     -0.123030 -0.059072  0.007283 -0.130987  0.167466   \n",
       "presence of heartdisease  0.050448 -0.033597 -0.078186  0.258847  0.378550   \n",
       "\n",
       "                             slope        ca      thal  \\\n",
       "age                       0.100705  0.023639  0.068176   \n",
       "sex                       0.088371 -0.017766  0.075163   \n",
       "cp                        0.029214 -0.063058 -0.132250   \n",
       "trestbps                  0.092285 -0.018105 -0.011406   \n",
       "chol                      0.059860  0.115585  0.056145   \n",
       "fbs                       0.005623  0.072594 -0.123030   \n",
       "restecg                  -0.018541  0.034462 -0.059072   \n",
       "thalach                  -0.123312 -0.014081  0.007283   \n",
       "exang                     0.091031 -0.106491 -0.130987   \n",
       "oldpeak                   0.230157 -0.020681  0.167466   \n",
       "slope                     1.000000  0.014482  0.040313   \n",
       "ca                        0.014482  1.000000  0.087297   \n",
       "thal                      0.040313  0.087297  1.000000   \n",
       "presence of heartdisease  0.116860  0.084113  0.127326   \n",
       "\n",
       "                          presence of heartdisease  \n",
       "age                                       0.286630  \n",
       "sex                                       0.147190  \n",
       "cp                                        0.167202  \n",
       "trestbps                                  0.141186  \n",
       "chol                                      0.075094  \n",
       "fbs                                       0.050448  \n",
       "restecg                                  -0.033597  \n",
       "thalach                                  -0.078186  \n",
       "exang                                     0.258847  \n",
       "oldpeak                                   0.378550  \n",
       "slope                                     0.116860  \n",
       "ca                                        0.084113  \n",
       "thal                                      0.127326  \n",
       "presence of heartdisease                  1.000000  "
      ]
     },
     "execution_count": 40,
     "metadata": {},
     "output_type": "execute_result"
    }
   ],
   "source": [
    "df1.corr()\n",
    "#restecg and thalach  negatively correalted ca is strongly correlated with presence of heart disease (target variable)"
   ]
  },
  {
   "cell_type": "code",
   "execution_count": 41,
   "metadata": {},
   "outputs": [],
   "source": [
    "dfcor=df1.corr()"
   ]
  },
  {
   "cell_type": "code",
   "execution_count": 42,
   "metadata": {},
   "outputs": [
    {
     "data": {
      "text/plain": [
       "<matplotlib.axes._subplots.AxesSubplot at 0x27ff6b4d5c8>"
      ]
     },
     "execution_count": 42,
     "metadata": {},
     "output_type": "execute_result"
    },
    {
     "data": {
      "image/png": "[encoded data removed]",
      "text/plain": [
       "<Figure size 576x432 with 2 Axes>"
      ]
     },
     "metadata": {
      "needs_background": "light"
     },
     "output_type": "display_data"
    }
   ],
   "source": [
    "sns.heatmap(dfcor)"
   ]
  },
  {
   "cell_type": "code",
   "execution_count": 43,
   "metadata": {},
   "outputs": [
    {
     "data": {
      "text/plain": [
       "<matplotlib.axes._subplots.AxesSubplot at 0x27ff6b48b88>"
      ]
     },
     "execution_count": 43,
     "metadata": {},
     "output_type": "execute_result"
    },
    {
     "data": {
      "image/png": "[encoded data removed]",
      "text/plain": [
       "<Figure size 1080x864 with 2 Axes>"
      ]
     },
     "metadata": {
      "needs_background": "light"
     },
     "output_type": "display_data"
    }
   ],
   "source": [
    "plt.figure(figsize=(15,12))\n",
    "sns.heatmap(dfcor,cmap='YlOrRd_r',annot=True)"
   ]
  },
  {
   "cell_type": "code",
   "execution_count": 44,
   "metadata": {},
   "outputs": [
    {
     "data": {
      "text/plain": [
       "<matplotlib.axes._subplots.AxesSubplot at 0x27ff76ebac8>"
      ]
     },
     "execution_count": 44,
     "metadata": {},
     "output_type": "execute_result"
    },
    {
     "data": {
      "image/png": "[encoded data removed]",
      "text/plain": [
       "<Figure size 1440x1440 with 1 Axes>"
      ]
     },
     "metadata": {
      "needs_background": "light"
     },
     "output_type": "display_data"
    }
   ],
   "source": [
    "#lets check outliers\n",
    "plt.figure(figsize = (20,20))\n",
    "sns.boxplot(data=df1)\n",
    "#outliers present"
   ]
  },
  {
   "cell_type": "code",
   "execution_count": 45,
   "metadata": {},
   "outputs": [
    {
     "name": "stdout",
     "output_type": "stream",
     "text": [
      "[[1.96373685 0.17631813 0.62583065 ... 0.10075854 0.45390637 1.24498245]\n",
      " [0.08560374 0.17631813 0.62583065 ... 0.10075854 0.45390637 0.39575601]\n",
      " [0.5548152  0.17631813 0.62583065 ... 0.10075854 0.45390637 0.42461322]\n",
      " ...\n",
      " [0.5548152  0.17631813 0.62583065 ... 0.10075854 2.20948369 0.39575601]\n",
      " [0.17056384 0.17631813 0.62583065 ... 0.10075854 0.45390637 1.24498245]\n",
      " [0.34177131 0.17631813 1.89013499 ... 0.10075854 0.45390637 0.42461322]]\n"
     ]
    }
   ],
   "source": [
    "#lets remove them\n",
    "from scipy import stats\n",
    "import numpy as np\n",
    "z = np.abs(stats.zscore(df1))\n",
    "print(z)"
   ]
  },
  {
   "cell_type": "code",
   "execution_count": 46,
   "metadata": {},
   "outputs": [
    {
     "name": "stdout",
     "output_type": "stream",
     "text": [
      "(array([ 23,  27,  32,  38,  50,  65,  69,  71,  75,  78,  95,  96, 125,\n",
      "       127, 130, 132, 136, 175, 189, 194, 195], dtype=int64), array([ 7, 11,  3, 11,  1,  2,  7,  2,  2,  1,  0,  2,  1,  1,  2,  2,  2,\n",
      "        3,  1,  1,  2], dtype=int64))\n"
     ]
    }
   ],
   "source": [
    "threshold=3\n",
    "print(np.where(z>3))"
   ]
  },
  {
   "cell_type": "code",
   "execution_count": 47,
   "metadata": {},
   "outputs": [],
   "source": [
    "df1 = df1[(z < 3).all(axis=1)]"
   ]
  },
  {
   "cell_type": "code",
   "execution_count": 48,
   "metadata": {},
   "outputs": [
    {
     "data": {
      "text/plain": [
       "(199, 14)"
      ]
     },
     "execution_count": 48,
     "metadata": {},
     "output_type": "execute_result"
    }
   ],
   "source": [
    "df.shape\n",
    "#outliers removed out of 199rows 178rows left"
   ]
  },
  {
   "cell_type": "code",
   "execution_count": 49,
   "metadata": {},
   "outputs": [],
   "source": [
    "#lets prepare x and y\n"
   ]
  },
  {
   "cell_type": "code",
   "execution_count": 50,
   "metadata": {},
   "outputs": [],
   "source": [
    "#transforming our data to just 0 and 1 ,0 denotes absence of heart disease while 1 denotes presence of heart disease\n",
    "df1['presence of heartdisease'].replace([1,2,3,4], 1,inplace=True)"
   ]
  },
  {
   "cell_type": "code",
   "execution_count": 51,
   "metadata": {},
   "outputs": [
    {
     "data": {
      "text/html": [
       "<div>\n",
       "<style scoped>\n",
       "    .dataframe tbody tr th:only-of-type {\n",
       "        vertical-align: middle;\n",
       "    }\n",
       "\n",
       "    .dataframe tbody tr th {\n",
       "        vertical-align: top;\n",
       "    }\n",
       "\n",
       "    .dataframe thead th {\n",
       "        text-align: right;\n",
       "    }\n",
       "</style>\n",
       "<table border=\"1\" class=\"dataframe\">\n",
       "  <thead>\n",
       "    <tr style=\"text-align: right;\">\n",
       "      <th></th>\n",
       "      <th>age</th>\n",
       "      <th>sex</th>\n",
       "      <th>cp</th>\n",
       "      <th>trestbps</th>\n",
       "      <th>chol</th>\n",
       "      <th>fbs</th>\n",
       "      <th>restecg</th>\n",
       "      <th>thalach</th>\n",
       "      <th>exang</th>\n",
       "      <th>oldpeak</th>\n",
       "      <th>slope</th>\n",
       "      <th>ca</th>\n",
       "      <th>thal</th>\n",
       "      <th>presence of heartdisease</th>\n",
       "    </tr>\n",
       "  </thead>\n",
       "  <tbody>\n",
       "    <tr>\n",
       "      <td>192</td>\n",
       "      <td>62</td>\n",
       "      <td>1</td>\n",
       "      <td>4</td>\n",
       "      <td>158.00000</td>\n",
       "      <td>170.0</td>\n",
       "      <td>0.0</td>\n",
       "      <td>1</td>\n",
       "      <td>138.000000</td>\n",
       "      <td>1.0</td>\n",
       "      <td>0.000000</td>\n",
       "      <td>2.134021</td>\n",
       "      <td>2.134021</td>\n",
       "      <td>122.869863</td>\n",
       "      <td>1</td>\n",
       "    </tr>\n",
       "    <tr>\n",
       "      <td>193</td>\n",
       "      <td>46</td>\n",
       "      <td>1</td>\n",
       "      <td>4</td>\n",
       "      <td>134.00000</td>\n",
       "      <td>310.0</td>\n",
       "      <td>0.0</td>\n",
       "      <td>0</td>\n",
       "      <td>126.000000</td>\n",
       "      <td>0.0</td>\n",
       "      <td>0.000000</td>\n",
       "      <td>2.134021</td>\n",
       "      <td>2.134021</td>\n",
       "      <td>3.000000</td>\n",
       "      <td>1</td>\n",
       "    </tr>\n",
       "    <tr>\n",
       "      <td>196</td>\n",
       "      <td>55</td>\n",
       "      <td>1</td>\n",
       "      <td>4</td>\n",
       "      <td>122.00000</td>\n",
       "      <td>223.0</td>\n",
       "      <td>1.0</td>\n",
       "      <td>1</td>\n",
       "      <td>100.000000</td>\n",
       "      <td>0.0</td>\n",
       "      <td>0.000000</td>\n",
       "      <td>2.134021</td>\n",
       "      <td>2.134021</td>\n",
       "      <td>6.000000</td>\n",
       "      <td>1</td>\n",
       "    </tr>\n",
       "    <tr>\n",
       "      <td>197</td>\n",
       "      <td>58</td>\n",
       "      <td>1</td>\n",
       "      <td>4</td>\n",
       "      <td>133.72028</td>\n",
       "      <td>385.0</td>\n",
       "      <td>1.0</td>\n",
       "      <td>2</td>\n",
       "      <td>122.869863</td>\n",
       "      <td>0.0</td>\n",
       "      <td>1.309091</td>\n",
       "      <td>2.134021</td>\n",
       "      <td>2.134021</td>\n",
       "      <td>122.869863</td>\n",
       "      <td>0</td>\n",
       "    </tr>\n",
       "    <tr>\n",
       "      <td>198</td>\n",
       "      <td>62</td>\n",
       "      <td>1</td>\n",
       "      <td>2</td>\n",
       "      <td>120.00000</td>\n",
       "      <td>254.0</td>\n",
       "      <td>0.0</td>\n",
       "      <td>2</td>\n",
       "      <td>93.000000</td>\n",
       "      <td>1.0</td>\n",
       "      <td>0.000000</td>\n",
       "      <td>2.134021</td>\n",
       "      <td>2.134021</td>\n",
       "      <td>122.869863</td>\n",
       "      <td>1</td>\n",
       "    </tr>\n",
       "  </tbody>\n",
       "</table>\n",
       "</div>"
      ],
      "text/plain": [
       "     age  sex  cp   trestbps   chol  fbs  restecg     thalach  exang  \\\n",
       "192   62    1   4  158.00000  170.0  0.0        1  138.000000    1.0   \n",
       "193   46    1   4  134.00000  310.0  0.0        0  126.000000    0.0   \n",
       "196   55    1   4  122.00000  223.0  1.0        1  100.000000    0.0   \n",
       "197   58    1   4  133.72028  385.0  1.0        2  122.869863    0.0   \n",
       "198   62    1   2  120.00000  254.0  0.0        2   93.000000    1.0   \n",
       "\n",
       "      oldpeak     slope        ca        thal  presence of heartdisease  \n",
       "192  0.000000  2.134021  2.134021  122.869863                         1  \n",
       "193  0.000000  2.134021  2.134021    3.000000                         1  \n",
       "196  0.000000  2.134021  2.134021    6.000000                         1  \n",
       "197  1.309091  2.134021  2.134021  122.869863                         0  \n",
       "198  0.000000  2.134021  2.134021  122.869863                         1  "
      ]
     },
     "execution_count": 51,
     "metadata": {},
     "output_type": "execute_result"
    }
   ],
   "source": [
    "# data transformed\n",
    "df1.tail()"
   ]
  },
  {
   "cell_type": "code",
   "execution_count": 52,
   "metadata": {},
   "outputs": [
    {
     "name": "stdout",
     "output_type": "stream",
     "text": [
      "(178, 13)\n",
      "(178,)\n"
     ]
    }
   ],
   "source": [
    "x=df1.iloc[:,0:-1]\n",
    "print(x.shape)\n",
    "y=df1.iloc[:,-1]\n",
    "print(y.shape)"
   ]
  },
  {
   "cell_type": "code",
   "execution_count": 53,
   "metadata": {},
   "outputs": [],
   "source": [
    "train_x,test_x,train_y,test_y=train_test_split(x,y,test_size=0.2,random_state=52)"
   ]
  },
  {
   "cell_type": "code",
   "execution_count": 54,
   "metadata": {},
   "outputs": [],
   "source": [
    "lg=LogisticRegression()"
   ]
  },
  {
   "cell_type": "code",
   "execution_count": 55,
   "metadata": {},
   "outputs": [
    {
     "data": {
      "text/plain": [
       "LogisticRegression(C=1.0, class_weight=None, dual=False, fit_intercept=True,\n",
       "                   intercept_scaling=1, l1_ratio=None, max_iter=100,\n",
       "                   multi_class='warn', n_jobs=None, penalty='l2',\n",
       "                   random_state=None, solver='warn', tol=0.0001, verbose=0,\n",
       "                   warm_start=False)"
      ]
     },
     "execution_count": 55,
     "metadata": {},
     "output_type": "execute_result"
    }
   ],
   "source": [
    "lg.fit(train_x,train_y)"
   ]
  },
  {
   "cell_type": "code",
   "execution_count": 56,
   "metadata": {},
   "outputs": [
    {
     "name": "stdout",
     "output_type": "stream",
     "text": [
      "[1 1 1 1 0 1 1 1 0 0 1 1 1 1 1 1 1 1 1 1 1 1 1 1 1 1 1 1 1 1 1 1 1 0 1 1]\n"
     ]
    }
   ],
   "source": [
    "pred=lg.predict(test_x)\n",
    "print(pred)"
   ]
  },
  {
   "cell_type": "code",
   "execution_count": 57,
   "metadata": {},
   "outputs": [
    {
     "name": "stdout",
     "output_type": "stream",
     "text": [
      "accuracy_score: 0.6944444444444444\n"
     ]
    }
   ],
   "source": [
    "print(\"accuracy_score:\",accuracy_score(test_y,pred))"
   ]
  },
  {
   "cell_type": "code",
   "execution_count": 58,
   "metadata": {},
   "outputs": [
    {
     "name": "stdout",
     "output_type": "stream",
     "text": [
      "[[ 1  8]\n",
      " [ 3 24]]\n"
     ]
    }
   ],
   "source": [
    "print(confusion_matrix(test_y,pred))"
   ]
  },
  {
   "cell_type": "code",
   "execution_count": 59,
   "metadata": {},
   "outputs": [
    {
     "name": "stdout",
     "output_type": "stream",
     "text": [
      "              precision    recall  f1-score   support\n",
      "\n",
      "           0       0.25      0.11      0.15         9\n",
      "           1       0.75      0.89      0.81        27\n",
      "\n",
      "    accuracy                           0.69        36\n",
      "   macro avg       0.50      0.50      0.48        36\n",
      "weighted avg       0.62      0.69      0.65        36\n",
      "\n"
     ]
    }
   ],
   "source": [
    "print(classification_report(test_y,pred))"
   ]
  },
  {
   "cell_type": "code",
   "execution_count": 60,
   "metadata": {},
   "outputs": [],
   "source": [
    "from sklearn.naive_bayes import GaussianNB"
   ]
  },
  {
   "cell_type": "code",
   "execution_count": 61,
   "metadata": {},
   "outputs": [
    {
     "data": {
      "text/plain": [
       "GaussianNB(priors=None, var_smoothing=1e-09)"
      ]
     },
     "execution_count": 61,
     "metadata": {},
     "output_type": "execute_result"
    }
   ],
   "source": [
    "gnb=GaussianNB()\n",
    "gnb.fit(train_x,train_y)"
   ]
  },
  {
   "cell_type": "code",
   "execution_count": 62,
   "metadata": {},
   "outputs": [
    {
     "name": "stdout",
     "output_type": "stream",
     "text": [
      "0.6944444444444444\n"
     ]
    }
   ],
   "source": [
    "predgnb=gnb.predict(test_x)\n",
    "print(accuracy_score(predgnb,test_y))"
   ]
  },
  {
   "cell_type": "code",
   "execution_count": 63,
   "metadata": {},
   "outputs": [
    {
     "name": "stdout",
     "output_type": "stream",
     "text": [
      "[[ 3  6]\n",
      " [ 5 22]]\n",
      "              precision    recall  f1-score   support\n",
      "\n",
      "           0       0.38      0.33      0.35         9\n",
      "           1       0.79      0.81      0.80        27\n",
      "\n",
      "    accuracy                           0.69        36\n",
      "   macro avg       0.58      0.57      0.58        36\n",
      "weighted avg       0.68      0.69      0.69        36\n",
      "\n"
     ]
    }
   ],
   "source": [
    "print(confusion_matrix(test_y,predgnb))\n",
    "print(classification_report(test_y,predgnb))"
   ]
  },
  {
   "cell_type": "code",
   "execution_count": 64,
   "metadata": {},
   "outputs": [
    {
     "data": {
      "text/plain": [
       "SVC(C=1.0, cache_size=200, class_weight=None, coef0=0.0,\n",
       "    decision_function_shape='ovr', degree=3, gamma='auto_deprecated',\n",
       "    kernel='rbf', max_iter=-1, probability=False, random_state=None,\n",
       "    shrinking=True, tol=0.001, verbose=False)"
      ]
     },
     "execution_count": 64,
     "metadata": {},
     "output_type": "execute_result"
    }
   ],
   "source": [
    "from sklearn.svm import SVC\n",
    "svc=SVC(kernel=\"rbf\")\n",
    "svc.fit(train_x,train_y)"
   ]
  },
  {
   "cell_type": "code",
   "execution_count": 65,
   "metadata": {},
   "outputs": [
    {
     "name": "stdout",
     "output_type": "stream",
     "text": [
      "actual and predicted presence of heart disease 0.75\n"
     ]
    }
   ],
   "source": [
    "predsvc=svc.predict(test_x)\n",
    "print('actual and predicted presence of heart disease',accuracy_score(test_y,predsvc))"
   ]
  },
  {
   "cell_type": "code",
   "execution_count": 66,
   "metadata": {},
   "outputs": [
    {
     "name": "stdout",
     "output_type": "stream",
     "text": [
      "[[ 0  9]\n",
      " [ 0 27]]\n",
      "              precision    recall  f1-score   support\n",
      "\n",
      "           0       0.00      0.00      0.00         9\n",
      "           1       0.75      1.00      0.86        27\n",
      "\n",
      "    accuracy                           0.75        36\n",
      "   macro avg       0.38      0.50      0.43        36\n",
      "weighted avg       0.56      0.75      0.64        36\n",
      "\n"
     ]
    }
   ],
   "source": [
    "print(confusion_matrix(test_y,predsvc))\n",
    "print(classification_report(test_y,predsvc))"
   ]
  },
  {
   "cell_type": "code",
   "execution_count": 67,
   "metadata": {},
   "outputs": [],
   "source": [
    "from sklearn.neighbors import KNeighborsClassifier"
   ]
  },
  {
   "cell_type": "code",
   "execution_count": 68,
   "metadata": {},
   "outputs": [],
   "source": [
    "knn=KNeighborsClassifier(n_neighbors=5)\n",
    "knn.fit(train_x,train_y)\n",
    "predknn=knn.predict(test_x)"
   ]
  },
  {
   "cell_type": "code",
   "execution_count": 69,
   "metadata": {},
   "outputs": [
    {
     "data": {
      "text/plain": [
       "array([1, 1, 0, 1, 1, 1, 1, 1, 1, 1, 1, 1, 1, 1, 1, 1, 1, 1, 1, 1, 0, 1,\n",
       "       1, 1, 1, 1, 1, 1, 1, 1, 1, 0, 1, 1, 1, 1], dtype=int64)"
      ]
     },
     "execution_count": 69,
     "metadata": {},
     "output_type": "execute_result"
    }
   ],
   "source": [
    "predknn"
   ]
  },
  {
   "cell_type": "code",
   "execution_count": 70,
   "metadata": {},
   "outputs": [
    {
     "name": "stdout",
     "output_type": "stream",
     "text": [
      "              precision    recall  f1-score   support\n",
      "\n",
      "           0       0.67      0.22      0.33         9\n",
      "           1       0.79      0.96      0.87        27\n",
      "\n",
      "    accuracy                           0.78        36\n",
      "   macro avg       0.73      0.59      0.60        36\n",
      "weighted avg       0.76      0.78      0.73        36\n",
      "\n"
     ]
    }
   ],
   "source": [
    "print(classification_report(test_y,predknn))"
   ]
  },
  {
   "cell_type": "code",
   "execution_count": 71,
   "metadata": {},
   "outputs": [],
   "source": [
    "from sklearn.tree import DecisionTreeClassifier"
   ]
  },
  {
   "cell_type": "code",
   "execution_count": 72,
   "metadata": {},
   "outputs": [],
   "source": [
    "dct=DecisionTreeClassifier()\n",
    "dct.fit(train_x,train_y)\n",
    "predknn=knn.predict(test_x)"
   ]
  },
  {
   "cell_type": "code",
   "execution_count": 73,
   "metadata": {},
   "outputs": [
    {
     "name": "stdout",
     "output_type": "stream",
     "text": [
      "              precision    recall  f1-score   support\n",
      "\n",
      "           0       0.67      0.22      0.33         9\n",
      "           1       0.79      0.96      0.87        27\n",
      "\n",
      "    accuracy                           0.78        36\n",
      "   macro avg       0.73      0.59      0.60        36\n",
      "weighted avg       0.76      0.78      0.73        36\n",
      "\n"
     ]
    }
   ],
   "source": [
    "print(classification_report(test_y,predknn))"
   ]
  },
  {
   "cell_type": "code",
   "execution_count": 74,
   "metadata": {},
   "outputs": [
    {
     "name": "stdout",
     "output_type": "stream",
     "text": [
      "[0.7027027  0.77777778 0.85714286 0.77142857 0.77142857]\n"
     ]
    }
   ],
   "source": [
    "from sklearn.model_selection import cross_val_score\n",
    "gnbscores=cross_val_score(gnb,x,y,cv=5)\n",
    "print(gnbscores)\n"
   ]
  },
  {
   "cell_type": "code",
   "execution_count": 75,
   "metadata": {},
   "outputs": [],
   "source": [
    "from sklearn.ensemble import RandomForestClassifier\n",
    "rf = RandomForestClassifier()\n",
    "rf.fit(train_x, train_y)\n",
    "rf_predict=rf.predict(test_x) "
   ]
  },
  {
   "cell_type": "code",
   "execution_count": 76,
   "metadata": {},
   "outputs": [
    {
     "name": "stdout",
     "output_type": "stream",
     "text": [
      "[[ 1  8]\n",
      " [ 6 21]]\n",
      "0.6111111111111112\n"
     ]
    }
   ],
   "source": [
    "rf_conf_matrix = confusion_matrix(test_y, rf_predict)\n",
    "rf_acc_score = accuracy_score(test_y, rf_predict)\n",
    "print(rf_conf_matrix)\n",
    "print(rf_acc_score)"
   ]
  },
  {
   "cell_type": "code",
   "execution_count": 77,
   "metadata": {},
   "outputs": [
    {
     "name": "stdout",
     "output_type": "stream",
     "text": [
      "0.6944444444444444\n",
      "[[ 3  6]\n",
      " [ 5 22]]\n",
      "              precision    recall  f1-score   support\n",
      "\n",
      "           0       0.38      0.33      0.35         9\n",
      "           1       0.79      0.81      0.80        27\n",
      "\n",
      "    accuracy                           0.69        36\n",
      "   macro avg       0.58      0.57      0.58        36\n",
      "weighted avg       0.68      0.69      0.69        36\n",
      "\n"
     ]
    }
   ],
   "source": [
    "from sklearn.ensemble import AdaBoostClassifier\n",
    "ad=AdaBoostClassifier(n_estimators=7)\n",
    "ad.fit(train_x,train_y)\n",
    "ad_pred=ad.predict(test_x)\n",
    "print(accuracy_score(test_y,ad_pred))\n",
    "print(confusion_matrix(test_y,ad_pred))\n",
    "print(classification_report(test_y,ad_pred))"
   ]
  },
  {
   "cell_type": "code",
   "execution_count": 78,
   "metadata": {},
   "outputs": [
    {
     "name": "stdout",
     "output_type": "stream",
     "text": [
      "0.0034462926344546174\n",
      "[ 6.95356637e-03  0.00000000e+00  1.28467705e-01  3.79905977e-04\n",
      " -1.38486251e-04  1.42053180e-01 -2.86258595e-02 -1.09692233e-03\n",
      "  1.80778042e-01  5.19566950e-02 -2.37226715e-02  0.00000000e+00\n",
      "  2.01541779e-04]\n",
      "0.10956157676062761\n"
     ]
    }
   ],
   "source": [
    "from sklearn.linear_model import Lasso,Ridge\n",
    "ls=Lasso()\n",
    "ls.fit(train_x,train_y)\n",
    "print(ls.score(train_x,train_y))\n",
    "rd=Ridge(alpha=1)\n",
    "rd.fit(x,y)\n",
    "print(rd.coef_)\n",
    "print(rd.score(test_x,test_y))"
   ]
  },
  {
   "cell_type": "code",
   "execution_count": 79,
   "metadata": {},
   "outputs": [
    {
     "name": "stdout",
     "output_type": "stream",
     "text": [
      "F1-score= [0.54011299 0.62105263 0.53044376 0.61818182 0.65038846]\n",
      "Mean Scores 0.5920359315661393\n",
      "Standard deviation 0.0477915912419817\n",
      "Y Prediction values\n",
      "[0 1 1 1 1 1 1 0 0 1 1 1 1 1 0 1 1 1 1 1 1 1 1 1 0 1 1 0 1 1 1 1 1 1 1 1 1\n",
      " 1 0 1 1 1 1 1 0 0 1 1 1 1 1 1 1 1 1 1 1 1 1 0 1 1 1 1 1 1 1 1 1 0 1 1 1 1\n",
      " 1 1 1 1 1 1 1 0 0 0 1 0 1 0 1 1 0 1 1 0 1 1 0 1 1 0 1 0 1 1 1 1 1 1 1 1 0\n",
      " 1 0 1 1 1 0 0 0 1 0 1 1 1 1 1 1 0 1 1 1 1 1 1 1 1 1 1 1 1 1 1 1 1 1 1 1 0\n",
      " 0 1 1 1 1 1 1 1 0 0 1 1 1 0 1 1 1 1 1 1 1 1 0 1 1 1 0 0 1 0]\n"
     ]
    },
    {
     "data": {
      "text/plain": [
       "array([[ 14,  28],\n",
       "       [ 23, 113]], dtype=int64)"
      ]
     },
     "execution_count": 79,
     "metadata": {},
     "output_type": "execute_result"
    }
   ],
   "source": [
    "dtc=DecisionTreeClassifier(criterion='entropy')\n",
    "score=cross_val_score(dtc,x,y,cv=5,scoring='f1_macro')\n",
    "print('F1-score=',score)\n",
    "print('Mean Scores',score.mean())\n",
    "print('Standard deviation',score.std())\n",
    "\n",
    "y_pred=cross_val_predict(dtc,x,y,cv=5)\n",
    "\n",
    "print('Y Prediction values')\n",
    "print(y_pred)\n",
    "conf_mat=confusion_matrix(y,y_pred)\n",
    "conf_mat"
   ]
  },
  {
   "cell_type": "code",
   "execution_count": 80,
   "metadata": {},
   "outputs": [],
   "source": [
    "#lets drop some feature to improve accuracy score\n"
   ]
  },
  {
   "cell_type": "code",
   "execution_count": null,
   "metadata": {},
   "outputs": [],
   "source": []
  },
  {
   "cell_type": "code",
   "execution_count": null,
   "metadata": {},
   "outputs": [],
   "source": []
  },
  {
   "cell_type": "code",
   "execution_count": null,
   "metadata": {},
   "outputs": [],
   "source": []
  },
  {
   "cell_type": "code",
   "execution_count": null,
   "metadata": {},
   "outputs": [],
   "source": []
  },
  {
   "cell_type": "code",
   "execution_count": null,
   "metadata": {},
   "outputs": [],
   "source": []
  },
  {
   "cell_type": "code",
   "execution_count": 81,
   "metadata": {},
   "outputs": [],
   "source": [
    "df1['Age_Category']= pd.cut(df1['age'],bins=list(np.arange(25, 85, 5)))"
   ]
  },
  {
   "cell_type": "code",
   "execution_count": null,
   "metadata": {},
   "outputs": [],
   "source": []
  },
  {
   "cell_type": "code",
   "execution_count": null,
   "metadata": {},
   "outputs": [],
   "source": []
  },
  {
   "cell_type": "code",
   "execution_count": 82,
   "metadata": {},
   "outputs": [],
   "source": [
    "df1 = pd.get_dummies(df1,columns=['sex','cp','fbs','restecg','exang','slope','ca','thal','Age_Category'])"
   ]
  },
  {
   "cell_type": "code",
   "execution_count": 83,
   "metadata": {},
   "outputs": [],
   "source": [
    "df1.drop(['age'],axis=1,inplace=True)"
   ]
  },
  {
   "cell_type": "code",
   "execution_count": 84,
   "metadata": {},
   "outputs": [
    {
     "data": {
      "text/html": [
       "<div>\n",
       "<style scoped>\n",
       "    .dataframe tbody tr th:only-of-type {\n",
       "        vertical-align: middle;\n",
       "    }\n",
       "\n",
       "    .dataframe tbody tr th {\n",
       "        vertical-align: top;\n",
       "    }\n",
       "\n",
       "    .dataframe thead th {\n",
       "        text-align: right;\n",
       "    }\n",
       "</style>\n",
       "<table border=\"1\" class=\"dataframe\">\n",
       "  <thead>\n",
       "    <tr style=\"text-align: right;\">\n",
       "      <th></th>\n",
       "      <th>trestbps</th>\n",
       "      <th>chol</th>\n",
       "      <th>thalach</th>\n",
       "      <th>oldpeak</th>\n",
       "      <th>presence of heartdisease</th>\n",
       "      <th>sex_1</th>\n",
       "      <th>cp_2</th>\n",
       "      <th>cp_3</th>\n",
       "      <th>cp_4</th>\n",
       "      <th>fbs_0.0</th>\n",
       "      <th>...</th>\n",
       "      <th>Age_Category_(30, 35]</th>\n",
       "      <th>Age_Category_(35, 40]</th>\n",
       "      <th>Age_Category_(40, 45]</th>\n",
       "      <th>Age_Category_(45, 50]</th>\n",
       "      <th>Age_Category_(50, 55]</th>\n",
       "      <th>Age_Category_(55, 60]</th>\n",
       "      <th>Age_Category_(60, 65]</th>\n",
       "      <th>Age_Category_(65, 70]</th>\n",
       "      <th>Age_Category_(70, 75]</th>\n",
       "      <th>Age_Category_(75, 80]</th>\n",
       "    </tr>\n",
       "  </thead>\n",
       "  <tbody>\n",
       "    <tr>\n",
       "      <td>0</td>\n",
       "      <td>130.0</td>\n",
       "      <td>209.0</td>\n",
       "      <td>127.0</td>\n",
       "      <td>0.0</td>\n",
       "      <td>0</td>\n",
       "      <td>1</td>\n",
       "      <td>0</td>\n",
       "      <td>0</td>\n",
       "      <td>1</td>\n",
       "      <td>1</td>\n",
       "      <td>...</td>\n",
       "      <td>0</td>\n",
       "      <td>0</td>\n",
       "      <td>1</td>\n",
       "      <td>0</td>\n",
       "      <td>0</td>\n",
       "      <td>0</td>\n",
       "      <td>0</td>\n",
       "      <td>0</td>\n",
       "      <td>0</td>\n",
       "      <td>0</td>\n",
       "    </tr>\n",
       "    <tr>\n",
       "      <td>1</td>\n",
       "      <td>132.0</td>\n",
       "      <td>218.0</td>\n",
       "      <td>140.0</td>\n",
       "      <td>1.5</td>\n",
       "      <td>1</td>\n",
       "      <td>1</td>\n",
       "      <td>0</td>\n",
       "      <td>0</td>\n",
       "      <td>1</td>\n",
       "      <td>1</td>\n",
       "      <td>...</td>\n",
       "      <td>0</td>\n",
       "      <td>0</td>\n",
       "      <td>0</td>\n",
       "      <td>0</td>\n",
       "      <td>0</td>\n",
       "      <td>1</td>\n",
       "      <td>0</td>\n",
       "      <td>0</td>\n",
       "      <td>0</td>\n",
       "      <td>0</td>\n",
       "    </tr>\n",
       "    <tr>\n",
       "      <td>2</td>\n",
       "      <td>142.0</td>\n",
       "      <td>228.0</td>\n",
       "      <td>149.0</td>\n",
       "      <td>2.5</td>\n",
       "      <td>1</td>\n",
       "      <td>1</td>\n",
       "      <td>0</td>\n",
       "      <td>0</td>\n",
       "      <td>1</td>\n",
       "      <td>1</td>\n",
       "      <td>...</td>\n",
       "      <td>0</td>\n",
       "      <td>0</td>\n",
       "      <td>0</td>\n",
       "      <td>0</td>\n",
       "      <td>1</td>\n",
       "      <td>0</td>\n",
       "      <td>0</td>\n",
       "      <td>0</td>\n",
       "      <td>0</td>\n",
       "      <td>0</td>\n",
       "    </tr>\n",
       "    <tr>\n",
       "      <td>3</td>\n",
       "      <td>110.0</td>\n",
       "      <td>213.0</td>\n",
       "      <td>99.0</td>\n",
       "      <td>1.3</td>\n",
       "      <td>0</td>\n",
       "      <td>1</td>\n",
       "      <td>0</td>\n",
       "      <td>1</td>\n",
       "      <td>0</td>\n",
       "      <td>0</td>\n",
       "      <td>...</td>\n",
       "      <td>0</td>\n",
       "      <td>0</td>\n",
       "      <td>0</td>\n",
       "      <td>0</td>\n",
       "      <td>0</td>\n",
       "      <td>0</td>\n",
       "      <td>0</td>\n",
       "      <td>1</td>\n",
       "      <td>0</td>\n",
       "      <td>0</td>\n",
       "    </tr>\n",
       "    <tr>\n",
       "      <td>4</td>\n",
       "      <td>120.0</td>\n",
       "      <td>0.0</td>\n",
       "      <td>120.0</td>\n",
       "      <td>-0.5</td>\n",
       "      <td>0</td>\n",
       "      <td>1</td>\n",
       "      <td>0</td>\n",
       "      <td>1</td>\n",
       "      <td>0</td>\n",
       "      <td>1</td>\n",
       "      <td>...</td>\n",
       "      <td>0</td>\n",
       "      <td>0</td>\n",
       "      <td>0</td>\n",
       "      <td>0</td>\n",
       "      <td>0</td>\n",
       "      <td>0</td>\n",
       "      <td>0</td>\n",
       "      <td>1</td>\n",
       "      <td>0</td>\n",
       "      <td>0</td>\n",
       "    </tr>\n",
       "  </tbody>\n",
       "</table>\n",
       "<p>5 rows × 36 columns</p>\n",
       "</div>"
      ],
      "text/plain": [
       "   trestbps   chol  thalach  oldpeak  presence of heartdisease  sex_1  cp_2  \\\n",
       "0     130.0  209.0    127.0      0.0                         0      1     0   \n",
       "1     132.0  218.0    140.0      1.5                         1      1     0   \n",
       "2     142.0  228.0    149.0      2.5                         1      1     0   \n",
       "3     110.0  213.0     99.0      1.3                         0      1     0   \n",
       "4     120.0    0.0    120.0     -0.5                         0      1     0   \n",
       "\n",
       "   cp_3  cp_4  fbs_0.0  ...  Age_Category_(30, 35]  Age_Category_(35, 40]  \\\n",
       "0     0     1        1  ...                      0                      0   \n",
       "1     0     1        1  ...                      0                      0   \n",
       "2     0     1        1  ...                      0                      0   \n",
       "3     1     0        0  ...                      0                      0   \n",
       "4     1     0        1  ...                      0                      0   \n",
       "\n",
       "   Age_Category_(40, 45]  Age_Category_(45, 50]  Age_Category_(50, 55]  \\\n",
       "0                      1                      0                      0   \n",
       "1                      0                      0                      0   \n",
       "2                      0                      0                      1   \n",
       "3                      0                      0                      0   \n",
       "4                      0                      0                      0   \n",
       "\n",
       "   Age_Category_(55, 60]  Age_Category_(60, 65]  Age_Category_(65, 70]  \\\n",
       "0                      0                      0                      0   \n",
       "1                      1                      0                      0   \n",
       "2                      0                      0                      0   \n",
       "3                      0                      0                      1   \n",
       "4                      0                      0                      1   \n",
       "\n",
       "   Age_Category_(70, 75]  Age_Category_(75, 80]  \n",
       "0                      0                      0  \n",
       "1                      0                      0  \n",
       "2                      0                      0  \n",
       "3                      0                      0  \n",
       "4                      0                      0  \n",
       "\n",
       "[5 rows x 36 columns]"
      ]
     },
     "execution_count": 84,
     "metadata": {},
     "output_type": "execute_result"
    }
   ],
   "source": [
    "df1.head()"
   ]
  },
  {
   "cell_type": "code",
   "execution_count": 85,
   "metadata": {},
   "outputs": [
    {
     "data": {
      "text/plain": [
       "trestbps                    float64\n",
       "chol                        float64\n",
       "thalach                     float64\n",
       "oldpeak                     float64\n",
       "presence of heartdisease      int64\n",
       "sex_1                         uint8\n",
       "cp_2                          uint8\n",
       "cp_3                          uint8\n",
       "cp_4                          uint8\n",
       "fbs_0.0                       uint8\n",
       "fbs_1.0                       uint8\n",
       "restecg_0                     uint8\n",
       "restecg_1                     uint8\n",
       "restecg_2                     uint8\n",
       "exang_0.0                     uint8\n",
       "exang_1.0                     uint8\n",
       "slope_1.0                     uint8\n",
       "slope_2.0                     uint8\n",
       "slope_2.134020618556701       uint8\n",
       "slope_3.0                     uint8\n",
       "ca_2.134020618556697          uint8\n",
       "thal_3.0                      uint8\n",
       "thal_6.0                      uint8\n",
       "thal_7.0                      uint8\n",
       "thal_122.86986301369846       uint8\n",
       "Age_Category_(25, 30]         uint8\n",
       "Age_Category_(30, 35]         uint8\n",
       "Age_Category_(35, 40]         uint8\n",
       "Age_Category_(40, 45]         uint8\n",
       "Age_Category_(45, 50]         uint8\n",
       "Age_Category_(50, 55]         uint8\n",
       "Age_Category_(55, 60]         uint8\n",
       "Age_Category_(60, 65]         uint8\n",
       "Age_Category_(65, 70]         uint8\n",
       "Age_Category_(70, 75]         uint8\n",
       "Age_Category_(75, 80]         uint8\n",
       "dtype: object"
      ]
     },
     "execution_count": 85,
     "metadata": {},
     "output_type": "execute_result"
    }
   ],
   "source": [
    "df1.dtypes"
   ]
  },
  {
   "cell_type": "code",
   "execution_count": null,
   "metadata": {},
   "outputs": [],
   "source": []
  },
  {
   "cell_type": "code",
   "execution_count": null,
   "metadata": {},
   "outputs": [],
   "source": []
  },
  {
   "cell_type": "code",
   "execution_count": null,
   "metadata": {},
   "outputs": [],
   "source": []
  },
  {
   "cell_type": "code",
   "execution_count": null,
   "metadata": {},
   "outputs": [],
   "source": [
    "#by geeting dummies there is a improvement in accuracy score"
   ]
  },
  {
   "cell_type": "code",
   "execution_count": 86,
   "metadata": {},
   "outputs": [],
   "source": [
    "y = df1['presence of heartdisease']\n",
    "x = df1.drop(['presence of heartdisease'],  axis =1)"
   ]
  },
  {
   "cell_type": "code",
   "execution_count": null,
   "metadata": {},
   "outputs": [],
   "source": []
  },
  {
   "cell_type": "code",
   "execution_count": null,
   "metadata": {},
   "outputs": [],
   "source": []
  },
  {
   "cell_type": "code",
   "execution_count": 132,
   "metadata": {},
   "outputs": [],
   "source": [
    "from sklearn.model_selection import train_test_split\n",
    "x_train,x_test,y_train,y_test = train_test_split(x,y, test_size = 0.34,random_state = 5)"
   ]
  },
  {
   "cell_type": "code",
   "execution_count": 133,
   "metadata": {},
   "outputs": [
    {
     "data": {
      "text/plain": [
       "LogisticRegression(C=1.0, class_weight=None, dual=False, fit_intercept=True,\n",
       "                   intercept_scaling=1, l1_ratio=None, max_iter=100,\n",
       "                   multi_class='warn', n_jobs=None, penalty='l2',\n",
       "                   random_state=None, solver='warn', tol=0.0001, verbose=0,\n",
       "                   warm_start=False)"
      ]
     },
     "execution_count": 133,
     "metadata": {},
     "output_type": "execute_result"
    }
   ],
   "source": [
    "lg.fit(x_train,y_train)"
   ]
  },
  {
   "cell_type": "code",
   "execution_count": 134,
   "metadata": {},
   "outputs": [
    {
     "data": {
      "text/plain": [
       "0.8032786885245902"
      ]
     },
     "execution_count": 134,
     "metadata": {},
     "output_type": "execute_result"
    }
   ],
   "source": [
    "lg.score(x_test,y_test)"
   ]
  },
  {
   "cell_type": "code",
   "execution_count": 135,
   "metadata": {},
   "outputs": [],
   "source": [
    "from sklearn.ensemble import RandomForestClassifier\n",
    "rf = RandomForestClassifier()\n",
    "rf.fit(x_train, y_train)\n",
    "rf_predict=rf.predict(x_test) "
   ]
  },
  {
   "cell_type": "code",
   "execution_count": 136,
   "metadata": {},
   "outputs": [
    {
     "name": "stdout",
     "output_type": "stream",
     "text": [
      "[[ 2 11]\n",
      " [ 3 45]]\n",
      "0.7704918032786885\n"
     ]
    }
   ],
   "source": [
    "rf_conf_matrix = confusion_matrix(y_test, rf_predict)\n",
    "rf_acc_score = accuracy_score(y_test, rf_predict)\n",
    "print(rf_conf_matrix)\n",
    "print(rf_acc_score)"
   ]
  },
  {
   "cell_type": "code",
   "execution_count": 137,
   "metadata": {},
   "outputs": [
    {
     "name": "stdout",
     "output_type": "stream",
     "text": [
      "0.5901639344262295\n",
      "[[ 3 10]\n",
      " [15 33]]\n",
      "              precision    recall  f1-score   support\n",
      "\n",
      "           0       0.17      0.23      0.19        13\n",
      "           1       0.77      0.69      0.73        48\n",
      "\n",
      "    accuracy                           0.59        61\n",
      "   macro avg       0.47      0.46      0.46        61\n",
      "weighted avg       0.64      0.59      0.61        61\n",
      "\n"
     ]
    }
   ],
   "source": [
    "from sklearn.ensemble import AdaBoostClassifier\n",
    "ad=AdaBoostClassifier(n_estimators=250)\n",
    "ad.fit(x_train,y_train)\n",
    "ad_pred=ad.predict(x_test)\n",
    "print(accuracy_score(y_test,ad_pred))\n",
    "print(confusion_matrix(y_test,ad_pred))\n",
    "print(classification_report(y_test,ad_pred))"
   ]
  },
  {
   "cell_type": "code",
   "execution_count": 138,
   "metadata": {},
   "outputs": [
    {
     "data": {
      "text/plain": [
       "LogisticRegression(C=1.0, class_weight=None, dual=False, fit_intercept=True,\n",
       "                   intercept_scaling=1, l1_ratio=None, max_iter=100,\n",
       "                   multi_class='warn', n_jobs=None, penalty='l2',\n",
       "                   random_state=None, solver='warn', tol=0.0001, verbose=0,\n",
       "                   warm_start=False)"
      ]
     },
     "execution_count": 138,
     "metadata": {},
     "output_type": "execute_result"
    }
   ],
   "source": [
    "from sklearn.linear_model import LogisticRegression\n",
    "lg = LogisticRegression()\n",
    "lg.fit(x_train,y_train)\n"
   ]
  },
  {
   "cell_type": "code",
   "execution_count": 139,
   "metadata": {},
   "outputs": [],
   "source": [
    "y_pred = lg.predict(x_test)"
   ]
  },
  {
   "cell_type": "code",
   "execution_count": 140,
   "metadata": {},
   "outputs": [
    {
     "name": "stdout",
     "output_type": "stream",
     "text": [
      "              precision    recall  f1-score   support\n",
      "\n",
      "           0       1.00      0.08      0.14        13\n",
      "           1       0.80      1.00      0.89        48\n",
      "\n",
      "    accuracy                           0.80        61\n",
      "   macro avg       0.90      0.54      0.52        61\n",
      "weighted avg       0.84      0.80      0.73        61\n",
      "\n"
     ]
    }
   ],
   "source": [
    "from sklearn.metrics import classification_report, confusion_matrix,accuracy_score\n",
    "print(classification_report(y_test,y_pred))"
   ]
  },
  {
   "cell_type": "code",
   "execution_count": 141,
   "metadata": {},
   "outputs": [],
   "source": [
    "from sklearn.neighbors import KNeighborsClassifier"
   ]
  },
  {
   "cell_type": "code",
   "execution_count": 142,
   "metadata": {},
   "outputs": [],
   "source": [
    "knn=KNeighborsClassifier(n_neighbors=5)\n",
    "knn.fit(x_train,y_train)\n",
    "predknn=knn.predict(x_test)"
   ]
  },
  {
   "cell_type": "code",
   "execution_count": 143,
   "metadata": {},
   "outputs": [
    {
     "name": "stdout",
     "output_type": "stream",
     "text": [
      "              precision    recall  f1-score   support\n",
      "\n",
      "           0       0.50      0.15      0.24        13\n",
      "           1       0.81      0.96      0.88        48\n",
      "\n",
      "    accuracy                           0.79        61\n",
      "   macro avg       0.65      0.56      0.56        61\n",
      "weighted avg       0.74      0.79      0.74        61\n",
      "\n"
     ]
    }
   ],
   "source": [
    "print(classification_report(y_test,predknn))"
   ]
  },
  {
   "cell_type": "code",
   "execution_count": 144,
   "metadata": {},
   "outputs": [
    {
     "data": {
      "text/plain": [
       "SVC(C=1.0, cache_size=200, class_weight=None, coef0=0.0,\n",
       "    decision_function_shape='ovr', degree=3, gamma='auto_deprecated',\n",
       "    kernel='rbf', max_iter=-1, probability=False, random_state=None,\n",
       "    shrinking=True, tol=0.001, verbose=False)"
      ]
     },
     "execution_count": 144,
     "metadata": {},
     "output_type": "execute_result"
    }
   ],
   "source": [
    "from sklearn.svm import SVC\n",
    "svc=SVC(kernel=\"rbf\")\n",
    "svc.fit(x_train,y_train)"
   ]
  },
  {
   "cell_type": "code",
   "execution_count": null,
   "metadata": {},
   "outputs": [],
   "source": []
  },
  {
   "cell_type": "code",
   "execution_count": 145,
   "metadata": {},
   "outputs": [
    {
     "name": "stdout",
     "output_type": "stream",
     "text": [
      "F1-score= [0.65634675 0.70526316 0.62606838 0.60268318 0.47649573]\n",
      "Mean Scores 0.6133714376438835\n",
      "Standard deviation 0.07655243573747142\n",
      "Y Prediction values\n",
      "[0 1 1 1 0 1 1 1 1 0 1 1 1 1 0 1 1 1 1 0 1 1 1 1 1 1 0 0 1 1 1 1 1 1 1 0 0\n",
      " 1 0 1 1 1 1 1 0 0 1 1 1 1 1 1 1 1 1 1 1 1 1 0 1 1 1 1 1 1 1 1 1 0 1 1 1 1\n",
      " 1 1 1 1 0 1 1 1 0 0 1 0 1 1 1 1 1 1 1 1 1 0 0 0 1 0 0 0 1 1 1 1 1 1 1 1 0\n",
      " 1 0 1 1 1 0 0 0 0 1 1 1 1 1 1 0 0 0 0 1 1 1 1 0 1 1 1 1 1 1 1 1 1 1 1 0 0\n",
      " 1 1 1 1 0 0 1 0 0 1 1 1 1 0 0 1 1 1 1 1 1 1 1 1 1 1 1 0 1 0]\n"
     ]
    },
    {
     "data": {
      "text/plain": [
       "array([[ 18,  24],\n",
       "       [ 27, 109]], dtype=int64)"
      ]
     },
     "execution_count": 145,
     "metadata": {},
     "output_type": "execute_result"
    }
   ],
   "source": [
    "dtc=DecisionTreeClassifier(criterion='gini')\n",
    "score=cross_val_score(dtc,x,y,cv=5,scoring='f1_macro')\n",
    "print('F1-score=',score)\n",
    "print('Mean Scores',score.mean())\n",
    "print('Standard deviation',score.std())\n",
    "\n",
    "y_pred=cross_val_predict(dtc,x,y,cv=5)\n",
    "\n",
    "print('Y Prediction values')\n",
    "print(y_pred)\n",
    "conf_mat=confusion_matrix(y,y_pred)\n",
    "conf_mat"
   ]
  },
  {
   "cell_type": "code",
   "execution_count": 146,
   "metadata": {},
   "outputs": [],
   "source": [
    "from sklearn.metrics import roc_curve\n",
    "import matplotlib.pyplot as plt\n",
    "from sklearn.metrics import roc_auc_score"
   ]
  },
  {
   "cell_type": "code",
   "execution_count": 147,
   "metadata": {},
   "outputs": [],
   "source": [
    "y_pred_prob=lg.predict_proba(x_test)[:,1]"
   ]
  },
  {
   "cell_type": "code",
   "execution_count": 148,
   "metadata": {},
   "outputs": [
    {
     "data": {
      "text/plain": [
       "array([0.92790249, 0.51885493, 0.9178585 , 0.73134691, 0.83858351,\n",
       "       0.58864521, 0.78874932, 0.76579414, 0.64045741, 0.90085671,\n",
       "       0.82600125, 0.93856893, 0.73083416, 0.88360561, 0.9436089 ,\n",
       "       0.57391491, 0.58226261, 0.87252797, 0.97627676, 0.70981523,\n",
       "       0.8494348 , 0.94079839, 0.91415164, 0.9221373 , 0.50539959,\n",
       "       0.81858708, 0.90238694, 0.94155038, 0.53109086, 0.79127426,\n",
       "       0.90847732, 0.57785595, 0.8224972 , 0.83852336, 0.84176478,\n",
       "       0.86692028, 0.92526607, 0.85564422, 0.8451138 , 0.88985978,\n",
       "       0.93177085, 0.82646254, 0.87988388, 0.8042614 , 0.98142243,\n",
       "       0.8551824 , 0.93610161, 0.78817515, 0.68248087, 0.75980855,\n",
       "       0.66609469, 0.86075514, 0.4361476 , 0.76336437, 0.66073668,\n",
       "       0.83510665, 0.59045654, 0.51752822, 0.85317835, 0.9060932 ,\n",
       "       0.76663003])"
      ]
     },
     "execution_count": 148,
     "metadata": {},
     "output_type": "execute_result"
    }
   ],
   "source": [
    "y_pred_prob"
   ]
  },
  {
   "cell_type": "code",
   "execution_count": 149,
   "metadata": {},
   "outputs": [],
   "source": [
    "fpr,tpr,thresholds=roc_curve(y_test,y_pred_prob)"
   ]
  },
  {
   "cell_type": "code",
   "execution_count": 150,
   "metadata": {},
   "outputs": [
    {
     "data": {
      "text/plain": [
       "array([0.        , 0.        , 0.        , 0.07692308, 0.07692308,\n",
       "       0.15384615, 0.15384615, 0.23076923, 0.23076923, 0.30769231,\n",
       "       0.30769231, 0.38461538, 0.38461538, 0.46153846, 0.46153846,\n",
       "       0.53846154, 0.53846154, 0.61538462, 0.61538462, 0.69230769,\n",
       "       0.69230769, 0.84615385, 0.84615385, 0.92307692, 0.92307692,\n",
       "       1.        ])"
      ]
     },
     "execution_count": 150,
     "metadata": {},
     "output_type": "execute_result"
    }
   ],
   "source": [
    "fpr"
   ]
  },
  {
   "cell_type": "code",
   "execution_count": 151,
   "metadata": {},
   "outputs": [
    {
     "data": {
      "text/plain": [
       "array([0.        , 0.02083333, 0.1875    , 0.1875    , 0.20833333,\n",
       "       0.20833333, 0.22916667, 0.22916667, 0.375     , 0.375     ,\n",
       "       0.4375    , 0.4375    , 0.625     , 0.625     , 0.64583333,\n",
       "       0.64583333, 0.6875    , 0.6875    , 0.75      , 0.75      ,\n",
       "       0.85416667, 0.85416667, 0.875     , 0.875     , 1.        ,\n",
       "       1.        ])"
      ]
     },
     "execution_count": 151,
     "metadata": {},
     "output_type": "execute_result"
    }
   ],
   "source": [
    "tpr"
   ]
  },
  {
   "cell_type": "code",
   "execution_count": 152,
   "metadata": {},
   "outputs": [
    {
     "data": {
      "text/plain": [
       "array([1.98142243, 0.98142243, 0.92790249, 0.92526607, 0.9221373 ,\n",
       "       0.9178585 , 0.91415164, 0.90847732, 0.87252797, 0.86692028,\n",
       "       0.8551824 , 0.85317835, 0.8224972 , 0.81858708, 0.8042614 ,\n",
       "       0.79127426, 0.78817515, 0.76663003, 0.75980855, 0.73134691,\n",
       "       0.66073668, 0.59045654, 0.58864521, 0.58226261, 0.50539959,\n",
       "       0.4361476 ])"
      ]
     },
     "execution_count": 152,
     "metadata": {},
     "output_type": "execute_result"
    }
   ],
   "source": [
    "thresholds"
   ]
  },
  {
   "cell_type": "code",
   "execution_count": null,
   "metadata": {},
   "outputs": [],
   "source": []
  },
  {
   "cell_type": "code",
   "execution_count": 153,
   "metadata": {},
   "outputs": [],
   "source": [
    "auc_score=roc_auc_score(y_test,lg.predict(x_test))"
   ]
  },
  {
   "cell_type": "code",
   "execution_count": 154,
   "metadata": {},
   "outputs": [
    {
     "name": "stdout",
     "output_type": "stream",
     "text": [
      "0.5384615384615384\n"
     ]
    }
   ],
   "source": [
    "print(auc_score)"
   ]
  },
  {
   "cell_type": "code",
   "execution_count": 122,
   "metadata": {},
   "outputs": [],
   "source": [
    "#logistic regression is giving a accuracy of 0.80"
   ]
  },
  {
   "cell_type": "code",
   "execution_count": 155,
   "metadata": {},
   "outputs": [],
   "source": [
    "lg_cv_score = cross_val_score(lg, x, y, cv=10)"
   ]
  },
  {
   "cell_type": "code",
   "execution_count": 156,
   "metadata": {},
   "outputs": [
    {
     "data": {
      "text/plain": [
       "array([0.78947368, 0.68421053, 0.88888889, 0.77777778, 0.72222222,\n",
       "       0.88888889, 0.76470588, 0.82352941, 0.82352941, 0.76470588])"
      ]
     },
     "execution_count": 156,
     "metadata": {},
     "output_type": "execute_result"
    }
   ],
   "source": [
    "lg_cv_score"
   ]
  },
  {
   "cell_type": "code",
   "execution_count": 159,
   "metadata": {},
   "outputs": [],
   "source": [
    "from sklearn.externals import joblib\n",
    "joblib.dump(lg,'lgheart.obj')\n",
    "lg_from_joblib=joblib.load('lgheart.obj')"
   ]
  },
  {
   "cell_type": "code",
   "execution_count": null,
   "metadata": {},
   "outputs": [],
   "source": []
  }
 ],
 "metadata": {
  "kernelspec": {
   "display_name": "Python 3",
   "language": "python",
   "name": "python3"
  },
  "language_info": {
   "codemirror_mode": {
    "name": "ipython",
    "version": 3
   },
   "file_extension": ".py",
   "mimetype": "text/x-python",
   "name": "python",
   "nbconvert_exporter": "python",
   "pygments_lexer": "ipython3",
   "version": "3.7.4"
  }
 },
 "nbformat": 4,
 "nbformat_minor": 2
}
